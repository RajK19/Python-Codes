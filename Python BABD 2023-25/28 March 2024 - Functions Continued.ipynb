{
 "cells": [
  {
   "cell_type": "code",
   "execution_count": 4,
   "metadata": {},
   "outputs": [],
   "source": [
    "#define a functions which will return a tuple of name and marks\n",
    "\n",
    "def ret_top(l1):\n",
    "    max_hrs = 0\n",
    "    name = ''\n",
    "    \n",
    "    for n1,m1 in l1:\n",
    "        if m1> max_hrs:\n",
    "            max_hrs = m1\n",
    "            name = n1\n",
    "    return (name, max_hrs)"
   ]
  },
  {
   "cell_type": "code",
   "execution_count": 5,
   "metadata": {},
   "outputs": [
    {
     "name": "stdout",
     "output_type": "stream",
     "text": [
      "Top performer - Name: Abhi; Hours:189\n"
     ]
    }
   ],
   "source": [
    "#Find out the emp name having maximum work hours\n",
    "\n",
    "emp_list = [('Abhi', 189),('Sasha', 120),('Simran',150)]\n",
    "emp_name,max_hours = ret_top(emp_list)\n",
    "print(f\"Top performer - Name: {emp_name}; Hours:{max_hours}\")"
   ]
  },
  {
   "cell_type": "markdown",
   "metadata": {},
   "source": [
    "### Functions - map(), lambda(), filter()\n",
    "\n",
    "#map - maps the elements <br>\n",
    "#lambda - acts like list comprehension <br>\n",
    "#filter = filters out specific elements <br>"
   ]
  },
  {
   "cell_type": "code",
   "execution_count": 11,
   "metadata": {},
   "outputs": [
    {
     "data": {
      "text/plain": [
       "[81, 0, 81, 81, 64, 196, 1]"
      ]
     },
     "execution_count": 11,
     "metadata": {},
     "output_type": "execute_result"
    }
   ],
   "source": [
    "### Return a list of squares of numbers in the given list\n",
    "\n",
    "#define function\n",
    "\n",
    "def my_square(mylist1):\n",
    "    newlist1 = []\n",
    "    for num in mylist1:\n",
    "        newlist1.append(num**2)\n",
    "    return newlist1\n",
    "\n",
    "list1 = [-9,0,9,9,8,14,1]\n",
    "my_square(list1)\n"
   ]
  },
  {
   "cell_type": "markdown",
   "metadata": {},
   "source": [
    "### map"
   ]
  },
  {
   "cell_type": "code",
   "execution_count": 7,
   "metadata": {},
   "outputs": [],
   "source": [
    "def ret_sq(x):\n",
    "    return x**2"
   ]
  },
  {
   "cell_type": "code",
   "execution_count": 8,
   "metadata": {},
   "outputs": [],
   "source": [
    "list1 = [-9,0,9,9,8,14,1]\n",
    "list2 = list(map(ret_sq, list1))"
   ]
  },
  {
   "cell_type": "code",
   "execution_count": 9,
   "metadata": {},
   "outputs": [
    {
     "name": "stdout",
     "output_type": "stream",
     "text": [
      "[-9, 0, 9, 9, 8, 14, 1]\n",
      "[81, 0, 81, 81, 64, 196, 1]\n"
     ]
    }
   ],
   "source": [
    "print(list1)\n",
    "print(list2)"
   ]
  },
  {
   "cell_type": "markdown",
   "metadata": {},
   "source": [
    "### filter"
   ]
  },
  {
   "cell_type": "code",
   "execution_count": 12,
   "metadata": {},
   "outputs": [],
   "source": [
    "def ret_even_sq(y):\n",
    "    if y%2 == 0:\n",
    "        return True"
   ]
  },
  {
   "cell_type": "code",
   "execution_count": 13,
   "metadata": {},
   "outputs": [
    {
     "name": "stdout",
     "output_type": "stream",
     "text": [
      "[-9, 0, 9, 9, 8, 14, 1]\n",
      "[0, 8, 14]\n"
     ]
    }
   ],
   "source": [
    "#Using MAP - create a list of squares of the numbers in given list\n",
    "\n",
    "list1 = [-9,0,9,9,8,14,1]\n",
    "list2 = list(filter(ret_even_sq, list1))\n",
    "\n",
    "print(list1)\n",
    "print(list2)"
   ]
  },
  {
   "cell_type": "code",
   "execution_count": 14,
   "metadata": {},
   "outputs": [
    {
     "name": "stdout",
     "output_type": "stream",
     "text": [
      "[-9, 0, 9, 9, 8, 14, 1]\n",
      "[None, True, None, None, True, True, None]\n"
     ]
    }
   ],
   "source": [
    "list1 = [-9,0,9,9,8,14,1]\n",
    "list2 = list(map(ret_even_sq, list1))\n",
    "\n",
    "print(list1)\n",
    "print(list2)"
   ]
  },
  {
   "cell_type": "code",
   "execution_count": 17,
   "metadata": {},
   "outputs": [
    {
     "data": {
      "text/plain": [
       "['K', 'S', 'h', 'K', 'a']"
      ]
     },
     "execution_count": 17,
     "metadata": {},
     "output_type": "execute_result"
    }
   ],
   "source": [
    "def str_splicer(mystr1):\n",
    "    if len(mystr1) % 2 ==0:\n",
    "        return mystr1[-1]\n",
    "    else:\n",
    "        return mystr1[0]\n",
    "    \n",
    "    \n",
    "names_list = ['Krish','Sandy','Piyush','Kabir','Saisha']\n",
    "list(map(str_splicer, names_list))"
   ]
  },
  {
   "cell_type": "code",
   "execution_count": 18,
   "metadata": {},
   "outputs": [
    {
     "data": {
      "text/plain": [
       "['Krish', 'Sandy', 'Kabir']"
      ]
     },
     "execution_count": 18,
     "metadata": {},
     "output_type": "execute_result"
    }
   ],
   "source": [
    "# filter sees true/false\n",
    "# map sees the values , could be anything boolean or integer or string\n",
    "\n",
    "def str_splicer(mystr1):\n",
    "    if len(mystr1) % 2 != 0:\n",
    "        return True\n",
    "    \n",
    "names_list = ['Krish','Sandy','Piyush','Kabir','Saisha']\n",
    "list(filter(str_splicer, names_list))"
   ]
  },
  {
   "cell_type": "markdown",
   "metadata": {},
   "source": [
    "## Lambda function"
   ]
  },
  {
   "cell_type": "code",
   "execution_count": 19,
   "metadata": {},
   "outputs": [
    {
     "data": {
      "text/plain": [
       "12167"
      ]
     },
     "execution_count": 19,
     "metadata": {},
     "output_type": "execute_result"
    }
   ],
   "source": [
    "def ret_cube(x):\n",
    "    return x**3\n",
    "\n",
    "ret_cube(23)"
   ]
  },
  {
   "cell_type": "code",
   "execution_count": 20,
   "metadata": {},
   "outputs": [
    {
     "data": {
      "text/plain": [
       "12167"
      ]
     },
     "execution_count": 20,
     "metadata": {},
     "output_type": "execute_result"
    }
   ],
   "source": [
    "(lambda x:x**3)(23)"
   ]
  },
  {
   "cell_type": "code",
   "execution_count": 21,
   "metadata": {},
   "outputs": [
    {
     "data": {
      "text/plain": [
       "13144256"
      ]
     },
     "execution_count": 21,
     "metadata": {},
     "output_type": "execute_result"
    }
   ],
   "source": [
    "(lambda x:x**3)(236)"
   ]
  },
  {
   "cell_type": "code",
   "execution_count": 22,
   "metadata": {},
   "outputs": [
    {
     "data": {
      "text/plain": [
       "13824"
      ]
     },
     "execution_count": 22,
     "metadata": {},
     "output_type": "execute_result"
    }
   ],
   "source": [
    "f1 = lambda x:x**3\n",
    "f1(24)"
   ]
  },
  {
   "cell_type": "code",
   "execution_count": 23,
   "metadata": {},
   "outputs": [
    {
     "data": {
      "text/plain": [
       "'olleH'"
      ]
     },
     "execution_count": 23,
     "metadata": {},
     "output_type": "execute_result"
    }
   ],
   "source": [
    "(lambda s1:s1[::-1])('Hello')"
   ]
  },
  {
   "cell_type": "code",
   "execution_count": 24,
   "metadata": {},
   "outputs": [
    {
     "data": {
      "text/plain": [
       "'olleH'"
      ]
     },
     "execution_count": 24,
     "metadata": {},
     "output_type": "execute_result"
    }
   ],
   "source": [
    "rev_str = (lambda s1:s1[::-1])\n",
    "rev_str('Hello')"
   ]
  },
  {
   "cell_type": "code",
   "execution_count": 25,
   "metadata": {},
   "outputs": [
    {
     "name": "stdout",
     "output_type": "stream",
     "text": [
      "[-9, 0, 9, 9, 8, 14, 1]\n",
      "[81, 0, 81, 81, 64, 196, 1]\n"
     ]
    }
   ],
   "source": [
    "list1 = [-9,0,9,9,8,14,1]\n",
    "list2 = list(map(lambda x:x**2, list1))\n",
    "\n",
    "print(list1)\n",
    "print(list2)"
   ]
  },
  {
   "cell_type": "code",
   "execution_count": 30,
   "metadata": {},
   "outputs": [
    {
     "data": {
      "text/plain": [
       "['K', 'S', 'h', 'K', 'a']"
      ]
     },
     "execution_count": 30,
     "metadata": {},
     "output_type": "execute_result"
    }
   ],
   "source": [
    "names_list = ['Krish','Sandy','Piyush','Kabir','Saisha']\n",
    "list(map(lambda s1:s1[0] if(len(s1)%2 == 1) else s1[-1], names_list))"
   ]
  },
  {
   "cell_type": "code",
   "execution_count": 31,
   "metadata": {},
   "outputs": [
    {
     "data": {
      "text/plain": [
       "['KKK', 'SSS', 'PPP', 'KKK', 'SSS']"
      ]
     },
     "execution_count": 31,
     "metadata": {},
     "output_type": "execute_result"
    }
   ],
   "source": [
    "names_list = ['Krish','Sandy','Piyush','Kabir','Saisha']\n",
    "list(map(lambda s1:s1[0]*3, names_list))"
   ]
  },
  {
   "cell_type": "code",
   "execution_count": 32,
   "metadata": {},
   "outputs": [
    {
     "data": {
      "text/plain": [
       "['Piyush', 'Saisha']"
      ]
     },
     "execution_count": 32,
     "metadata": {},
     "output_type": "execute_result"
    }
   ],
   "source": [
    "#Using lambda and filter logic, return strings having even length\n",
    "\n",
    "names_list = ['Krish','Sandy','Piyush','Kabir','Saisha']\n",
    "list(filter(lambda s1:len(s1)%2 == 0, names_list))    #returns output values only if the condition comes out to be true"
   ]
  },
  {
   "cell_type": "code",
   "execution_count": 33,
   "metadata": {},
   "outputs": [
    {
     "data": {
      "text/plain": [
       "[False, False, True, False, True]"
      ]
     },
     "execution_count": 33,
     "metadata": {},
     "output_type": "execute_result"
    }
   ],
   "source": [
    "#Using lambda and filter logic, return strings having even length\n",
    "\n",
    "names_list = ['Krish','Sandy','Piyush','Kabir','Saisha']\n",
    "list(map(lambda s1:len(s1)%2 == 0, names_list))    #returns everything that is returned i"
   ]
  },
  {
   "cell_type": "code",
   "execution_count": null,
   "metadata": {},
   "outputs": [],
   "source": []
  }
 ],
 "metadata": {
  "kernelspec": {
   "display_name": "Python 3",
   "language": "python",
   "name": "python3"
  },
  "language_info": {
   "codemirror_mode": {
    "name": "ipython",
    "version": 3
   },
   "file_extension": ".py",
   "mimetype": "text/x-python",
   "name": "python",
   "nbconvert_exporter": "python",
   "pygments_lexer": "ipython3",
   "version": "3.8.5"
  }
 },
 "nbformat": 4,
 "nbformat_minor": 4
}
