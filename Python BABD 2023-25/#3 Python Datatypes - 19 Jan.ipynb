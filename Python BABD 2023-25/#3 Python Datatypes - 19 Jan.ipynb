{
 "cells": [
  {
   "cell_type": "markdown",
   "metadata": {},
   "source": [
    "WORKING WITH NUMBERS (INTEGERS and FLOATS)\n",
    "============================================== \n",
    "\n",
    "# Welcome to CO1 - Understanding the Python Basics\n",
    "\n",
    "## Key Topics:\n",
    "\n",
    "### 1. Numbers and Variables Assignment\n",
    "### 2. Strings and Print Formatting\n",
    "### 3. Lists\n",
    "### 4. Dictionaries\n",
    "### 5. Tuples, Sets & Booleans\n",
    "\n",
    "\n",
    "Name  |  Type  |  Description\n",
    "|:---------|:------|:--------------------|\n",
    "Integers|int|Whole numbers like -10, 0, 20, 999\n",
    "Floating point\t|float| Numbers having decimal point like -3.3, 9.99, 9e7\n",
    "Strings\t|str|\tOrdered sequence of characters like  \"BABD\"   'Analytics'   \"$199.99\" \n",
    "Lists\t|list|\tOrdered Mutable sequence of objects in square brackets like   [10,\"hello\",200.3]\n",
    "Dictionaries\t|dict|\tUnordered & Mutable Key:Value pairs in curly brackets :  {\"mykey\" : \"value\" , \"name\" : \"Frankie\"}\n",
    "Tuples\t|tup|\tOrdered Immutable sequence of objects in round brackets like (10,\"hello\",200.3)\n",
    "Sets\t|set|\tUnordered collection of unique objects (No Duplicates) like  {\"a\",\"b\"}\n",
    "Booleans\t|bool|\tLogical value indicating True or False\n",
    "\n",
    "## Topic 1: Numbers and Variables Assignment\n",
    "\n",
    "- ### Numbers - Integers and Floating point\n",
    "    * ### Integers: -29, 59, 0, 1000\n",
    "    * ### Floating Point: 2.9, -0.6, 6E9, 2E-3"
   ]
  },
  {
   "cell_type": "code",
   "execution_count": 2,
   "metadata": {},
   "outputs": [
    {
     "name": "stdout",
     "output_type": "stream",
     "text": [
      "3+2 =  5\n"
     ]
    }
   ],
   "source": [
    "## Basic Arithmetic Operations\n",
    "\n",
    "#Addition, Multiplication, Division, Subtraction, Exponential {:.nf}.format\n",
    "\n",
    "print(\"3+2 = \", 3+2)"
   ]
  },
  {
   "cell_type": "code",
   "execution_count": 3,
   "metadata": {},
   "outputs": [
    {
     "name": "stdout",
     "output_type": "stream",
     "text": [
      "3+2 = 5\n",
      "3+3.9 = 6.9\n",
      "3*3 = 9\n",
      "3*3.9 = 11.7\n",
      "23/3 = 7.666666666666667\n",
      "99*9 = 891\n",
      "2e9 = 2000000000.0\n",
      "2E-2 = 0.02\n"
     ]
    }
   ],
   "source": [
    "print(\"3+2 =\", 3+2)\n",
    "print(\"3+3.9 =\", 3+3.9)\n",
    "print(\"3*3 =\",3*3 )\n",
    "print(\"3*3.9 =\",3*3.9)\n",
    "print(\"23/3 =\", 23/3)\n",
    "print(\"99*9 =\" , 99*9)\n",
    "print(\"2e9 =\", 2e9)  #2*10^9\n",
    "print(\"2E-2 =\",2E-2) #2*10^-2"
   ]
  },
  {
   "cell_type": "code",
   "execution_count": 5,
   "metadata": {},
   "outputs": [
    {
     "name": "stdout",
     "output_type": "stream",
     "text": [
      "9**2 = 81\n"
     ]
    }
   ],
   "source": [
    "print(\"9**2 =\", 9**2)"
   ]
  },
  {
   "cell_type": "code",
   "execution_count": 6,
   "metadata": {},
   "outputs": [
    {
     "name": "stdout",
     "output_type": "stream",
     "text": [
      "186\n"
     ]
    }
   ],
   "source": [
    "var1= 99 + 10 * 9 - 3\n",
    "print(var1)"
   ]
  },
  {
   "cell_type": "code",
   "execution_count": 7,
   "metadata": {},
   "outputs": [
    {
     "name": "stdout",
     "output_type": "stream",
     "text": [
      "129.0\n"
     ]
    }
   ],
   "source": [
    "var2 = 99 + 10 * 9 / 3\n",
    "print(var2)"
   ]
  },
  {
   "cell_type": "code",
   "execution_count": 8,
   "metadata": {},
   "outputs": [
    {
     "name": "stdout",
     "output_type": "stream",
     "text": [
      "var3 =  978\n",
      "var4 =  3.1666666666666665\n"
     ]
    }
   ],
   "source": [
    "var3= (99 + 10) * 9 - 3\n",
    "print(\"var3 = \", var3)\n",
    "\n",
    "var4 = (99.5 - (10 * 9)) / 3\n",
    "print(\"var4 = \", var4)"
   ]
  },
  {
   "cell_type": "code",
   "execution_count": 9,
   "metadata": {},
   "outputs": [],
   "source": [
    "v1 = 5.5\n",
    "v2 = 9\n",
    "v3 = -99\n",
    "v4 = \"Hello\""
   ]
  },
  {
   "cell_type": "code",
   "execution_count": 11,
   "metadata": {},
   "outputs": [
    {
     "name": "stdout",
     "output_type": "stream",
     "text": [
      "5.5 9 -99 Hello\n"
     ]
    }
   ],
   "source": [
    "print(v1,v2,v3,v4, sep =' ')    #separator operator"
   ]
  },
  {
   "cell_type": "code",
   "execution_count": 12,
   "metadata": {},
   "outputs": [
    {
     "name": "stdout",
     "output_type": "stream",
     "text": [
      "5.5|9|-99|Hello\n"
     ]
    }
   ],
   "source": [
    "print(v1,v2,v3,v4, sep ='|')  #seporator operator"
   ]
  },
  {
   "cell_type": "code",
   "execution_count": 18,
   "metadata": {},
   "outputs": [
    {
     "name": "stdout",
     "output_type": "stream",
     "text": [
      "5.5 9 -99 Hello  (:  <>   :) 5.5|9|-99|Hello\n"
     ]
    }
   ],
   "source": [
    "print(v1,v2,v3,v4, end = \"  (:  <>   :) \")    #ending operator\n",
    "print(v1,v2,v3,v4, sep = '|')\n"
   ]
  },
  {
   "cell_type": "markdown",
   "metadata": {},
   "source": [
    "#### we can use shift + tab to see the documentation of every class"
   ]
  },
  {
   "cell_type": "code",
   "execution_count": 19,
   "metadata": {},
   "outputs": [
    {
     "name": "stdout",
     "output_type": "stream",
     "text": [
      "Help on built-in function print in module builtins:\n",
      "\n",
      "print(...)\n",
      "    print(value, ..., sep=' ', end='\\n', file=sys.stdout, flush=False)\n",
      "    \n",
      "    Prints the values to a stream, or to sys.stdout by default.\n",
      "    Optional keyword arguments:\n",
      "    file:  a file-like object (stream); defaults to the current sys.stdout.\n",
      "    sep:   string inserted between values, default a space.\n",
      "    end:   string appended after the last value, default a newline.\n",
      "    flush: whether to forcibly flush the stream.\n",
      "\n"
     ]
    }
   ],
   "source": [
    "help(print)"
   ]
  },
  {
   "cell_type": "code",
   "execution_count": 21,
   "metadata": {},
   "outputs": [
    {
     "name": "stdout",
     "output_type": "stream",
     "text": [
      "5.5|9|-99|Hello\n"
     ]
    }
   ],
   "source": [
    "a = print(v1,v2,v3,v4, sep = '|', flush = True)"
   ]
  },
  {
   "cell_type": "code",
   "execution_count": 22,
   "metadata": {},
   "outputs": [],
   "source": [
    "a"
   ]
  },
  {
   "cell_type": "code",
   "execution_count": 26,
   "metadata": {},
   "outputs": [],
   "source": [
    "# v111 = 29\n",
    "\n",
    "# #Write Print statement here to get below output\n",
    "\n",
    "\n",
    "# v111 = [\"India\", \"USA\", \"UK\"]\n",
    "\n",
    "# #Write Print statement here to get below output\n",
    "\n",
    "\n",
    "\n",
    "\n",
    "# Output\n",
    "# ======\n",
    "# * Earlier: v111 =  29    Variable Type =  <class 'int'>\n",
    "# * Now: v111 =  ['India', 'USA', 'UK']    Variable Type =  <class 'list'>"
   ]
  },
  {
   "cell_type": "markdown",
   "metadata": {},
   "source": [
    "## Format function"
   ]
  },
  {
   "cell_type": "code",
   "execution_count": 41,
   "metadata": {},
   "outputs": [],
   "source": [
    "v111 = 29"
   ]
  },
  {
   "cell_type": "code",
   "execution_count": 42,
   "metadata": {},
   "outputs": [
    {
     "name": "stdout",
     "output_type": "stream",
     "text": [
      "Earlier: v111= 29 Variable Type= <class 'int'>\n"
     ]
    }
   ],
   "source": [
    "print(\"Earlier: v111=\", v111, \"Variable Type=\", type(v111))"
   ]
  },
  {
   "cell_type": "code",
   "execution_count": 43,
   "metadata": {},
   "outputs": [
    {
     "name": "stdout",
     "output_type": "stream",
     "text": [
      "Earlier: v111 = 29   Variable Type = <class 'int'>\n"
     ]
    }
   ],
   "source": [
    "tp = type(v111)\n",
    "print(f\"Earlier: v111 = {v111}   Variable Type = {type(v111)}\")"
   ]
  },
  {
   "cell_type": "code",
   "execution_count": 44,
   "metadata": {},
   "outputs": [],
   "source": [
    "v111 = [\"India\", \"USA\", \"UK\"]"
   ]
  },
  {
   "cell_type": "code",
   "execution_count": 45,
   "metadata": {},
   "outputs": [
    {
     "name": "stdout",
     "output_type": "stream",
     "text": [
      "Now: v111 = ['India', 'USA', 'UK']    Variable Type = <class 'list'>\n"
     ]
    }
   ],
   "source": [
    "print(f\"Now: v111 = {v111}    Variable Type = {type(v111)}\")"
   ]
  },
  {
   "cell_type": "code",
   "execution_count": 46,
   "metadata": {},
   "outputs": [
    {
     "name": "stdout",
     "output_type": "stream",
     "text": [
      "Address of v111 is 1734781307328\n"
     ]
    }
   ],
   "source": [
    "print(f\"Address of v111 is {id(v111)}\")"
   ]
  },
  {
   "cell_type": "code",
   "execution_count": 48,
   "metadata": {},
   "outputs": [],
   "source": [
    "###v111 = 99\n",
    "###v222 = v111"
   ]
  },
  {
   "cell_type": "code",
   "execution_count": 1,
   "metadata": {},
   "outputs": [],
   "source": [
    "import numpy as np"
   ]
  },
  {
   "cell_type": "code",
   "execution_count": 2,
   "metadata": {},
   "outputs": [
    {
     "data": {
      "text/plain": [
       "array([ 1.        ,  5.33333333,  9.66666667, 14.        , 18.33333333,\n",
       "       22.66666667, 27.        , 31.33333333, 35.66666667, 40.        ])"
      ]
     },
     "execution_count": 2,
     "metadata": {},
     "output_type": "execute_result"
    }
   ],
   "source": [
    "np.linspace(1,40,10)"
   ]
  },
  {
   "cell_type": "code",
   "execution_count": 4,
   "metadata": {},
   "outputs": [
    {
     "name": "stdout",
     "output_type": "stream",
     "text": [
      "Help on function linspace in module numpy:\n",
      "\n",
      "linspace(start, stop, num=50, endpoint=True, retstep=False, dtype=None, axis=0)\n",
      "    Return evenly spaced numbers over a specified interval.\n",
      "    \n",
      "    Returns `num` evenly spaced samples, calculated over the\n",
      "    interval [`start`, `stop`].\n",
      "    \n",
      "    The endpoint of the interval can optionally be excluded.\n",
      "    \n",
      "    .. versionchanged:: 1.16.0\n",
      "        Non-scalar `start` and `stop` are now supported.\n",
      "    \n",
      "    Parameters\n",
      "    ----------\n",
      "    start : array_like\n",
      "        The starting value of the sequence.\n",
      "    stop : array_like\n",
      "        The end value of the sequence, unless `endpoint` is set to False.\n",
      "        In that case, the sequence consists of all but the last of ``num + 1``\n",
      "        evenly spaced samples, so that `stop` is excluded.  Note that the step\n",
      "        size changes when `endpoint` is False.\n",
      "    num : int, optional\n",
      "        Number of samples to generate. Default is 50. Must be non-negative.\n",
      "    endpoint : bool, optional\n",
      "        If True, `stop` is the last sample. Otherwise, it is not included.\n",
      "        Default is True.\n",
      "    retstep : bool, optional\n",
      "        If True, return (`samples`, `step`), where `step` is the spacing\n",
      "        between samples.\n",
      "    dtype : dtype, optional\n",
      "        The type of the output array.  If `dtype` is not given, infer the data\n",
      "        type from the other input arguments.\n",
      "    \n",
      "        .. versionadded:: 1.9.0\n",
      "    \n",
      "    axis : int, optional\n",
      "        The axis in the result to store the samples.  Relevant only if start\n",
      "        or stop are array-like.  By default (0), the samples will be along a\n",
      "        new axis inserted at the beginning. Use -1 to get an axis at the end.\n",
      "    \n",
      "        .. versionadded:: 1.16.0\n",
      "    \n",
      "    Returns\n",
      "    -------\n",
      "    samples : ndarray\n",
      "        There are `num` equally spaced samples in the closed interval\n",
      "        ``[start, stop]`` or the half-open interval ``[start, stop)``\n",
      "        (depending on whether `endpoint` is True or False).\n",
      "    step : float, optional\n",
      "        Only returned if `retstep` is True\n",
      "    \n",
      "        Size of spacing between samples.\n",
      "    \n",
      "    \n",
      "    See Also\n",
      "    --------\n",
      "    arange : Similar to `linspace`, but uses a step size (instead of the\n",
      "             number of samples).\n",
      "    geomspace : Similar to `linspace`, but with numbers spaced evenly on a log\n",
      "                scale (a geometric progression).\n",
      "    logspace : Similar to `geomspace`, but with the end points specified as\n",
      "               logarithms.\n",
      "    \n",
      "    Examples\n",
      "    --------\n",
      "    >>> np.linspace(2.0, 3.0, num=5)\n",
      "    array([2.  , 2.25, 2.5 , 2.75, 3.  ])\n",
      "    >>> np.linspace(2.0, 3.0, num=5, endpoint=False)\n",
      "    array([2. ,  2.2,  2.4,  2.6,  2.8])\n",
      "    >>> np.linspace(2.0, 3.0, num=5, retstep=True)\n",
      "    (array([2.  ,  2.25,  2.5 ,  2.75,  3.  ]), 0.25)\n",
      "    \n",
      "    Graphical illustration:\n",
      "    \n",
      "    >>> import matplotlib.pyplot as plt\n",
      "    >>> N = 8\n",
      "    >>> y = np.zeros(N)\n",
      "    >>> x1 = np.linspace(0, 10, N, endpoint=True)\n",
      "    >>> x2 = np.linspace(0, 10, N, endpoint=False)\n",
      "    >>> plt.plot(x1, y, 'o')\n",
      "    [<matplotlib.lines.Line2D object at 0x...>]\n",
      "    >>> plt.plot(x2, y + 0.5, 'o')\n",
      "    [<matplotlib.lines.Line2D object at 0x...>]\n",
      "    >>> plt.ylim([-0.5, 1])\n",
      "    (-0.5, 1)\n",
      "    >>> plt.show()\n",
      "\n"
     ]
    }
   ],
   "source": [
    "help(np.linspace)"
   ]
  },
  {
   "cell_type": "code",
   "execution_count": 5,
   "metadata": {},
   "outputs": [
    {
     "data": {
      "text/plain": [
       "array([ 1, 11, 21, 31])"
      ]
     },
     "execution_count": 5,
     "metadata": {},
     "output_type": "execute_result"
    }
   ],
   "source": [
    "np.arange(1,40,10)"
   ]
  },
  {
   "cell_type": "code",
   "execution_count": 7,
   "metadata": {},
   "outputs": [
    {
     "data": {
      "text/plain": [
       "array([[0.70094875, 0.191351  ],\n",
       "       [0.816474  , 0.45597138],\n",
       "       [0.67086507, 0.31226297]])"
      ]
     },
     "execution_count": 7,
     "metadata": {},
     "output_type": "execute_result"
    }
   ],
   "source": [
    "np.random.rand(3,2)"
   ]
  },
  {
   "cell_type": "code",
   "execution_count": 11,
   "metadata": {},
   "outputs": [
    {
     "data": {
      "text/plain": [
       "array([34, 45,  6,  9, 45, 10, 37, 48,  1, 17])"
      ]
     },
     "execution_count": 11,
     "metadata": {},
     "output_type": "execute_result"
    }
   ],
   "source": [
    "np.random.randint(50,size=10)"
   ]
  },
  {
   "cell_type": "code",
   "execution_count": 14,
   "metadata": {},
   "outputs": [
    {
     "data": {
      "text/plain": [
       "array([ 1.33718878,  0.80195481, -0.61910019, -0.21813649,  2.21393853])"
      ]
     },
     "execution_count": 14,
     "metadata": {},
     "output_type": "execute_result"
    }
   ],
   "source": [
    "np.random.randn(5)"
   ]
  },
  {
   "cell_type": "code",
   "execution_count": null,
   "metadata": {},
   "outputs": [],
   "source": []
  }
 ],
 "metadata": {
  "kernelspec": {
   "display_name": "Python 3",
   "language": "python",
   "name": "python3"
  },
  "language_info": {
   "codemirror_mode": {
    "name": "ipython",
    "version": 3
   },
   "file_extension": ".py",
   "mimetype": "text/x-python",
   "name": "python",
   "nbconvert_exporter": "python",
   "pygments_lexer": "ipython3",
   "version": "3.8.5"
  }
 },
 "nbformat": 4,
 "nbformat_minor": 4
}
