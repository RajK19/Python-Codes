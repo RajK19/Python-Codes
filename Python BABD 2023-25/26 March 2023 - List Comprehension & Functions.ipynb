{
 "cells": [
  {
   "cell_type": "code",
   "execution_count": 1,
   "metadata": {},
   "outputs": [],
   "source": [
    "l1 = [-99,-100,0,100,22]"
   ]
  },
  {
   "cell_type": "code",
   "execution_count": 2,
   "metadata": {},
   "outputs": [],
   "source": [
    "l2 = [i for i in l1 if i%2==0]"
   ]
  },
  {
   "cell_type": "code",
   "execution_count": 3,
   "metadata": {},
   "outputs": [
    {
     "data": {
      "text/plain": [
       "[-100, 0, 100, 22]"
      ]
     },
     "execution_count": 3,
     "metadata": {},
     "output_type": "execute_result"
    }
   ],
   "source": [
    "l2"
   ]
  },
  {
   "cell_type": "code",
   "execution_count": 20,
   "metadata": {},
   "outputs": [],
   "source": [
    "#Q2 Creating a list of strings having odd length\n",
    "l1 = ['ABC','APP','BABD','MLDM','APR1','STATS']"
   ]
  },
  {
   "cell_type": "code",
   "execution_count": 21,
   "metadata": {},
   "outputs": [],
   "source": [
    "l2 = [i for i in l1 if len(i)%2 != 0]"
   ]
  },
  {
   "cell_type": "code",
   "execution_count": 22,
   "metadata": {},
   "outputs": [
    {
     "data": {
      "text/plain": [
       "['ABC', 'APP', 'STATS']"
      ]
     },
     "execution_count": 22,
     "metadata": {},
     "output_type": "execute_result"
    }
   ],
   "source": [
    "l2"
   ]
  },
  {
   "cell_type": "code",
   "execution_count": 23,
   "metadata": {},
   "outputs": [],
   "source": [
    "l4 = [i for i in l1 if len(i)==3]"
   ]
  },
  {
   "cell_type": "code",
   "execution_count": 24,
   "metadata": {},
   "outputs": [
    {
     "data": {
      "text/plain": [
       "['ABC', 'APP']"
      ]
     },
     "execution_count": 24,
     "metadata": {},
     "output_type": "execute_result"
    }
   ],
   "source": [
    "l4"
   ]
  },
  {
   "cell_type": "code",
   "execution_count": 31,
   "metadata": {},
   "outputs": [
    {
     "name": "stdout",
     "output_type": "stream",
     "text": [
      "Enter your name: RAJ\n",
      "{'RR', 'AA', 'JJ'}\n"
     ]
    }
   ],
   "source": [
    "#Create a list of characters from the given string in a way\n",
    "#that each character is replaced two times while preparing\n",
    "#an output list\n",
    "\n",
    "\n",
    "#SANDY\n",
    "#{'SS','AA','NN','DD','YY'}\n",
    "\n",
    "str1 = input('Enter your name: ')\n",
    "set2 = {chr*2 for chr in str1}\n",
    "print(set2)"
   ]
  },
  {
   "cell_type": "code",
   "execution_count": 32,
   "metadata": {},
   "outputs": [
    {
     "ename": "SyntaxError",
     "evalue": "invalid syntax (<ipython-input-32-63b5dfa7fe21>, line 4)",
     "output_type": "error",
     "traceback": [
      "\u001b[1;36m  File \u001b[1;32m\"<ipython-input-32-63b5dfa7fe21>\"\u001b[1;36m, line \u001b[1;32m4\u001b[0m\n\u001b[1;33m    c=\u001b[0m\n\u001b[1;37m       ^\u001b[0m\n\u001b[1;31mSyntaxError\u001b[0m\u001b[1;31m:\u001b[0m invalid syntax\n"
     ]
    }
   ],
   "source": [
    "## 5.4\n",
    "\n",
    "f = [32.0]\n",
    "c= "
   ]
  },
  {
   "cell_type": "code",
   "execution_count": 38,
   "metadata": {},
   "outputs": [
    {
     "name": "stdout",
     "output_type": "stream",
     "text": [
      "[3, 5, 7, 9, 11, 13, 15, 17, 19, 21]\n",
      "##############################\n",
      "[3, 5, 7, 9, 11, 13, 15, 17, 19, 21]\n",
      "==============================\n",
      "[9, 25, 49, 81, 121, 169, 225, 289, 361, 441]\n",
      "------------------------------------------------------------\n",
      "[36, 100, 196, 324, 484, 676, 900, 1156, 1444, 1764]\n"
     ]
    }
   ],
   "source": [
    "l1 = list(range(3,23,2))\n",
    "print(l1)\n",
    "print('#'*30)\n",
    "l2 = [x**2 for x in l1]\n",
    "\n",
    "l3 = [y**2 for y in [y*2 for y in l1]]\n",
    "\n",
    "print(l1)\n",
    "print('='*30)\n",
    "print(l2)\n",
    "print('--'*30)\n",
    "print(l3)"
   ]
  },
  {
   "cell_type": "code",
   "execution_count": 39,
   "metadata": {},
   "outputs": [
    {
     "name": "stdout",
     "output_type": "stream",
     "text": [
      "[3, 5, 7, 9, 11, 13, 15, 17, 19, 21]\n",
      "##############################\n",
      "[3, 5, 7, 9, 11, 13, 15, 17, 19, 21]\n",
      "==============================\n",
      "[9, 25, 49, 81, 121, 169, 225, 289, 361, 441]\n",
      "------------------------------------------------------------\n",
      "[2, 3, 3, 4, 4, 5, 5, 5, 6, 6]\n"
     ]
    }
   ],
   "source": [
    "l1 = list(range(3,23,2))\n",
    "print(l1)\n",
    "print('#'*30)\n",
    "l2 = [x**2 for x in l1]\n",
    "\n",
    "l3 = [int(y**0.5) for y in [y*2 for y in l1]]\n",
    "\n",
    "print(l1)\n",
    "print('='*30)\n",
    "print(l2)\n",
    "print('--'*30)\n",
    "print(l3)"
   ]
  },
  {
   "cell_type": "code",
   "execution_count": 40,
   "metadata": {},
   "outputs": [
    {
     "name": "stdout",
     "output_type": "stream",
     "text": [
      "['0.00', '10.00', '20.10', '34.50']\n"
     ]
    }
   ],
   "source": [
    "# 5.4 - Complex Expressions like F to C in Temperature using formula c = (5/9)*(f - 32)\n",
    "\n",
    "# Convert Fahreinheit to Celsius - IMPORTANT\n",
    "\n",
    "f = [32.0, 50.0, 68.18, 94.1]\n",
    "\n",
    "c = [\"%.2f\" %((5/9)*(val - 32)) for val in f]\n",
    "\n",
    "# c = [((5/9)*(val - 32)) for val in f]\n",
    "print(c)"
   ]
  },
  {
   "cell_type": "markdown",
   "metadata": {},
   "source": [
    "## User Defined Functions in Python"
   ]
  },
  {
   "cell_type": "code",
   "execution_count": 41,
   "metadata": {},
   "outputs": [
    {
     "name": "stdout",
     "output_type": "stream",
     "text": [
      "Enter a number23\n",
      "False\n"
     ]
    }
   ],
   "source": [
    "n1 = int(input('Enter a number'))\n",
    "print(n1%2 == 0)"
   ]
  },
  {
   "cell_type": "code",
   "execution_count": 42,
   "metadata": {},
   "outputs": [],
   "source": [
    "def chk_even(x):\n",
    "    if x%2 == 0:\n",
    "        print(f'{x} is Even')\n",
    "    else:\n",
    "        print(f'{x} is Odd')"
   ]
  },
  {
   "cell_type": "code",
   "execution_count": 43,
   "metadata": {},
   "outputs": [
    {
     "name": "stdout",
     "output_type": "stream",
     "text": [
      "99 is Odd\n"
     ]
    }
   ],
   "source": [
    "chk_even(99)"
   ]
  },
  {
   "cell_type": "code",
   "execution_count": 44,
   "metadata": {},
   "outputs": [],
   "source": [
    "l1 = ['RAJ','ADITI','AJAY','KUSHAL','BENNY']\n",
    "l2 = []"
   ]
  },
  {
   "cell_type": "code",
   "execution_count": 45,
   "metadata": {},
   "outputs": [],
   "source": [
    "def lencheck(l1):\n",
    "    [i for i in len(l1[i])%2 == 0]\n",
    "    l2 = i.append(l1[i])\n",
    "    \n",
    "    "
   ]
  },
  {
   "cell_type": "code",
   "execution_count": 55,
   "metadata": {},
   "outputs": [
    {
     "name": "stdout",
     "output_type": "stream",
     "text": [
      "True\n"
     ]
    }
   ],
   "source": [
    "l1 = ['RAJ','ADITI','AJAY','KUSHAL','BENNY']\n",
    "print(len(l1[2])%2 ==0)\n",
    "#l2 = [i for i in len(l1[i])%2 == 0]"
   ]
  },
  {
   "cell_type": "code",
   "execution_count": 81,
   "metadata": {},
   "outputs": [
    {
     "name": "stdout",
     "output_type": "stream",
     "text": [
      "['A', 'K']\n",
      "['J', 'I', 'Y']\n"
     ]
    }
   ],
   "source": [
    "l1 = ['RAJ','ADITI','AJAY','KUSHAL','BENNY']\n",
    "l2=[]\n",
    "l3=[]\n",
    "for i in l1:\n",
    "    if len(i)%2 == 0:\n",
    "        l2.append(i[0])\n",
    "    else:\n",
    "        l3.append(i[-1])\n",
    "        \n",
    "print(l2)\n",
    "print(l3)"
   ]
  },
  {
   "cell_type": "code",
   "execution_count": 72,
   "metadata": {},
   "outputs": [
    {
     "data": {
      "text/plain": [
       "['A', 'K']"
      ]
     },
     "execution_count": 72,
     "metadata": {},
     "output_type": "execute_result"
    }
   ],
   "source": [
    "l2 = [s[0] for s in l1 if len(s)%2 == 0]\n",
    "l2"
   ]
  },
  {
   "cell_type": "code",
   "execution_count": 73,
   "metadata": {},
   "outputs": [],
   "source": [
    "def chk_len_even(str):\n",
    "    return len(str)%2 == 0"
   ]
  },
  {
   "cell_type": "code",
   "execution_count": 74,
   "metadata": {},
   "outputs": [
    {
     "data": {
      "text/plain": [
       "['A', 'K']"
      ]
     },
     "execution_count": 74,
     "metadata": {},
     "output_type": "execute_result"
    }
   ],
   "source": [
    "l2 = [s[0] for s in l1 if chk_len_even(s)]\n",
    "l2"
   ]
  },
  {
   "cell_type": "code",
   "execution_count": 77,
   "metadata": {},
   "outputs": [],
   "source": [
    "\n",
    "l1 = ['RAJ','ADITI','AJAY','KUSHAL','BENNY']\n",
    "l2=[]\n",
    "l3=[]\n",
    "def funx():\n",
    "    for i in l1:\n",
    "        if len(i)%2 == 0:\n",
    "            l2.append(i[0])\n",
    "        else:\n",
    "            l3.append(i[0])\n",
    "        \n",
    "    print(l2)\n",
    "    print(l3)"
   ]
  },
  {
   "cell_type": "code",
   "execution_count": 78,
   "metadata": {},
   "outputs": [
    {
     "name": "stdout",
     "output_type": "stream",
     "text": [
      "['A', 'K']\n",
      "['R', 'A', 'B']\n"
     ]
    }
   ],
   "source": [
    "funx()"
   ]
  },
  {
   "cell_type": "code",
   "execution_count": 79,
   "metadata": {},
   "outputs": [
    {
     "name": "stdout",
     "output_type": "stream",
     "text": [
      "-100\n",
      "None\n"
     ]
    }
   ],
   "source": [
    "def result_print(var1, var2):\n",
    "    print(var1+var2)\n",
    "    \n",
    "def result_return(var1,var2):\n",
    "    return var1+var2\n",
    "\n",
    "result1 = result_print(99,-199)\n",
    "print(result1)"
   ]
  },
  {
   "cell_type": "code",
   "execution_count": 80,
   "metadata": {},
   "outputs": [
    {
     "name": "stdout",
     "output_type": "stream",
     "text": [
      "-100\n"
     ]
    }
   ],
   "source": [
    "def result_print1(var1, var2):\n",
    "    return(var1+var2)\n",
    "    \n",
    "def result_return(var1,var2):\n",
    "    return var1+var2\n",
    "\n",
    "result2 = result_print1(99,-199)\n",
    "print(result2)"
   ]
  },
  {
   "cell_type": "markdown",
   "metadata": {},
   "source": [
    "### by default function returns none, if don't add return to the function"
   ]
  },
  {
   "cell_type": "code",
   "execution_count": 107,
   "metadata": {},
   "outputs": [],
   "source": [
    "def chk_str_len1(l1):\n",
    "    l2 = []\n",
    "    for val in l1:\n",
    "        if len(val)%2 ==0:\n",
    "            l2.append(val[0])\n",
    "        else:\n",
    "            l2.append(val[-1])\n",
    "            \n",
    "    return l2"
   ]
  },
  {
   "cell_type": "code",
   "execution_count": 108,
   "metadata": {},
   "outputs": [
    {
     "name": "stdout",
     "output_type": "stream",
     "text": [
      "['J', 'I', 'A', 'K', 'Y']\n"
     ]
    }
   ],
   "source": [
    "list1 = ['RAJ','ADITI','AJAY','KUSHAL','BENNY']\n",
    "list2 = chk_str_len1(list1)\n",
    "print(list2)"
   ]
  },
  {
   "cell_type": "code",
   "execution_count": 109,
   "metadata": {},
   "outputs": [],
   "source": [
    "def chk_str_len(l1):\n",
    "    l2 = []\n",
    "    for val in l1:\n",
    "        if len(val)%2 ==0:\n",
    "            l2.append(val[0])\n",
    "        else:\n",
    "            l2.append(val[-1])\n",
    "            \n",
    "    "
   ]
  },
  {
   "cell_type": "code",
   "execution_count": 110,
   "metadata": {},
   "outputs": [
    {
     "name": "stdout",
     "output_type": "stream",
     "text": [
      "None\n"
     ]
    }
   ],
   "source": [
    "list1 = ['RAJ','ADITI','AJAY','KUSHAL','BENNY']\n",
    "list2 = chk_str_len(list1)\n",
    "print(list2)"
   ]
  },
  {
   "cell_type": "code",
   "execution_count": 116,
   "metadata": {},
   "outputs": [],
   "source": [
    "def chk_str_len3(l1):\n",
    "    l2 = []\n",
    "    for val in l1:\n",
    "        if len(val)%2 ==0:\n",
    "            l2.append(val[0])\n",
    "        else:\n",
    "            l2.append(val[-1])\n",
    "            \n",
    "    print(l2)\n",
    "    #return l2"
   ]
  },
  {
   "cell_type": "code",
   "execution_count": 117,
   "metadata": {},
   "outputs": [
    {
     "name": "stdout",
     "output_type": "stream",
     "text": [
      "['J', 'I', 'A', 'K', 'Y']\n",
      "None\n"
     ]
    }
   ],
   "source": [
    "list1 = ['RAJ','ADITI','AJAY','KUSHAL','BENNY']\n",
    "list2 = chk_str_len3(list1)\n",
    "print(list2)"
   ]
  },
  {
   "cell_type": "code",
   "execution_count": 119,
   "metadata": {},
   "outputs": [],
   "source": [
    "def chk_str_len3(l1):\n",
    "    l2 = []\n",
    "    for val in l1:\n",
    "        if len(val)%2 ==0:\n",
    "            l2.append(val[0])\n",
    "        else:\n",
    "            l2.append(val[-1])\n",
    "            \n",
    "    print(l2)\n",
    "    #return l2"
   ]
  },
  {
   "cell_type": "code",
   "execution_count": 120,
   "metadata": {},
   "outputs": [
    {
     "name": "stdout",
     "output_type": "stream",
     "text": [
      "['J', 'I', 'A', 'K', 'Y']\n"
     ]
    }
   ],
   "source": [
    "chk_str_len3(list1)"
   ]
  },
  {
   "cell_type": "code",
   "execution_count": 121,
   "metadata": {},
   "outputs": [],
   "source": [
    "def chk_str_len3(l1):\n",
    "    l2 = []\n",
    "    for val in l1:\n",
    "        if len(val)%2 ==0:\n",
    "            l2.append(val[0])\n",
    "        else:\n",
    "            l2.append(val[-1])\n",
    "            \n",
    "    print(l2)\n",
    "    return l2"
   ]
  },
  {
   "cell_type": "code",
   "execution_count": 122,
   "metadata": {},
   "outputs": [
    {
     "name": "stdout",
     "output_type": "stream",
     "text": [
      "['J', 'I', 'A', 'K', 'Y']\n"
     ]
    },
    {
     "data": {
      "text/plain": [
       "['J', 'I', 'A', 'K', 'Y']"
      ]
     },
     "execution_count": 122,
     "metadata": {},
     "output_type": "execute_result"
    }
   ],
   "source": [
    "chk_str_len3(list1)"
   ]
  },
  {
   "cell_type": "code",
   "execution_count": null,
   "metadata": {},
   "outputs": [],
   "source": []
  }
 ],
 "metadata": {
  "kernelspec": {
   "display_name": "Python 3",
   "language": "python",
   "name": "python3"
  },
  "language_info": {
   "codemirror_mode": {
    "name": "ipython",
    "version": 3
   },
   "file_extension": ".py",
   "mimetype": "text/x-python",
   "name": "python",
   "nbconvert_exporter": "python",
   "pygments_lexer": "ipython3",
   "version": "3.8.5"
  }
 },
 "nbformat": 4,
 "nbformat_minor": 4
}
