{
 "cells": [
  {
   "cell_type": "code",
   "execution_count": 11,
   "metadata": {},
   "outputs": [
    {
     "name": "stdout",
     "output_type": "stream",
     "text": [
      "['t', 'h', 'e', 'r', 'e', ' ', 'a', 'r', 'e', ' ', 'm', 'o', 'r', 'e', ' ', 't', 'h', 'a', 'n', ' ', ' ', 'p', 'r', 'i', 'm', 'e', ' ', 'n', 'u', 'm', 'b', 'e', 'r', 's', ' ', 'b', 'e', 't', 'w', 'e', 'e', 'n', ' ', ' ', 't', 'o', ' ', '.']\n"
     ]
    }
   ],
   "source": [
    "import regex as re\n",
    "str11 = 'there are more than 10 prime numbers between 1 to 100.'\n",
    "\n",
    "print(re.findall(r'[^\\d]',str11))"
   ]
  },
  {
   "cell_type": "code",
   "execution_count": 3,
   "metadata": {},
   "outputs": [
    {
     "name": "stdout",
     "output_type": "stream",
     "text": [
      "['1', '0', '1', '1', '0', '0']\n"
     ]
    }
   ],
   "source": [
    "import regex as re\n",
    "str11 = 'there are more than 10 prime numbers between 1 to 100.'\n",
    "\n",
    "print(re.findall(r'[^\\D]',str11))"
   ]
  },
  {
   "cell_type": "code",
   "execution_count": 12,
   "metadata": {},
   "outputs": [
    {
     "name": "stdout",
     "output_type": "stream",
     "text": [
      "['there are more than ', ' prime numbers between ', ' to ', '.']\n"
     ]
    }
   ],
   "source": [
    "print(re.findall(r'[^\\d]+',str11))"
   ]
  },
  {
   "cell_type": "code",
   "execution_count": 4,
   "metadata": {},
   "outputs": [
    {
     "name": "stdout",
     "output_type": "stream",
     "text": [
      "['there are more than ', '', '', ' prime numbers between ', '', ' to ', '', '', '', '.', '']\n"
     ]
    }
   ],
   "source": [
    "print(re.findall(r'[^\\d]*',str11))"
   ]
  },
  {
   "cell_type": "code",
   "execution_count": 13,
   "metadata": {},
   "outputs": [
    {
     "name": "stdout",
     "output_type": "stream",
     "text": [
      "['there are more than ', ' prime numbers between ', ' to ', '.']\n"
     ]
    }
   ],
   "source": [
    "print(re.findall(r'[^\\d]+',str11))"
   ]
  },
  {
   "cell_type": "code",
   "execution_count": 14,
   "metadata": {},
   "outputs": [
    {
     "data": {
      "text/plain": [
       "'there are more than  prime numbers between  to .'"
      ]
     },
     "execution_count": 14,
     "metadata": {},
     "output_type": "execute_result"
    }
   ],
   "source": [
    "import regex as re\n",
    "str11 = 'there are more than 10 prime numbers between 1 to 100.'\n",
    "\n",
    "\"\".join(re.findall(r'[^\\d]',str11))"
   ]
  },
  {
   "cell_type": "code",
   "execution_count": 15,
   "metadata": {},
   "outputs": [
    {
     "data": {
      "text/plain": [
       "'ABC'"
      ]
     },
     "execution_count": 15,
     "metadata": {},
     "output_type": "execute_result"
    }
   ],
   "source": [
    "l1 = ['A','B','C']\n",
    "\"\".join(l1)"
   ]
  },
  {
   "cell_type": "code",
   "execution_count": 16,
   "metadata": {},
   "outputs": [
    {
     "data": {
      "text/plain": [
       "'A*B*C'"
      ]
     },
     "execution_count": 16,
     "metadata": {},
     "output_type": "execute_result"
    }
   ],
   "source": [
    "l1 = ['A','B','C']\n",
    "\"*\".join(l1)"
   ]
  },
  {
   "cell_type": "code",
   "execution_count": 17,
   "metadata": {},
   "outputs": [
    {
     "data": {
      "text/plain": [
       "'ThisisastringIthaspunctuationsymbolsHowcanweremoveit'"
      ]
     },
     "execution_count": 17,
     "metadata": {},
     "output_type": "execute_result"
    }
   ],
   "source": [
    "test_phrase = 'This is a string!! It has punctuation symbols. How can we remove it.'\n",
    "\"\".join(re.findall('[^!.? ]+', test_phrase))"
   ]
  },
  {
   "cell_type": "code",
   "execution_count": 6,
   "metadata": {},
   "outputs": [
    {
     "data": {
      "text/plain": [
       "'ThisisastringIthaspunctuationsymbolsHowcanweremoveit'"
      ]
     },
     "execution_count": 6,
     "metadata": {},
     "output_type": "execute_result"
    }
   ],
   "source": [
    "test_phrase = 'This is a string!! It has punctuation symbols. How can we remove it.'\n",
    "\"\".join(re.findall('[^!.? ]+', test_phrase))"
   ]
  },
  {
   "cell_type": "code",
   "execution_count": 18,
   "metadata": {},
   "outputs": [
    {
     "data": {
      "text/plain": [
       "'This is a string It has punctuation symbols How can we remove it'"
      ]
     },
     "execution_count": 18,
     "metadata": {},
     "output_type": "execute_result"
    }
   ],
   "source": [
    "test_phrase = 'This is a string!! It has punctuation symbols. How can we remove it.'\n",
    "\" \".join(re.findall('[^!.? ]+', test_phrase))"
   ]
  },
  {
   "cell_type": "code",
   "execution_count": 19,
   "metadata": {},
   "outputs": [
    {
     "data": {
      "text/plain": [
       "'ThisisastringIthaspunctuationsymbolsHowcanweremoveit'"
      ]
     },
     "execution_count": 19,
     "metadata": {},
     "output_type": "execute_result"
    }
   ],
   "source": [
    "test_phrase = 'This is a string!! It has punctuation symbols. How can we remove it.'\n",
    "\"\".join(re.findall('[^\\W]+', test_phrase))"
   ]
  },
  {
   "cell_type": "code",
   "execution_count": 20,
   "metadata": {},
   "outputs": [
    {
     "data": {
      "text/plain": [
       "'This is a string It has punctuation symbols How can we remove it'"
      ]
     },
     "execution_count": 20,
     "metadata": {},
     "output_type": "execute_result"
    }
   ],
   "source": [
    "test_phrase = 'This is a string!! It has punctuation symbols. How can we remove it.'\n",
    "\" \".join(re.findall('[^\\W]+', test_phrase))"
   ]
  },
  {
   "cell_type": "code",
   "execution_count": 7,
   "metadata": {},
   "outputs": [
    {
     "data": {
      "text/plain": [
       "'      !!        .          .'"
      ]
     },
     "execution_count": 7,
     "metadata": {},
     "output_type": "execute_result"
    }
   ],
   "source": [
    "test_phrase = 'This is a string!! It has punctuation symbols. How can we remove it.'\n",
    "\" \".join(re.findall('[\\W]+', test_phrase))"
   ]
  },
  {
   "cell_type": "code",
   "execution_count": 29,
   "metadata": {},
   "outputs": [],
   "source": [
    "my_str12 = 'Hello, would you like some catfish?'\n",
    "my_str13 = \"Hello, would you like to take a catnap?\"\n",
    "my_str14 = \"Hello, have you seen this caterpillar?\""
   ]
  },
  {
   "cell_type": "code",
   "execution_count": 31,
   "metadata": {},
   "outputs": [
    {
     "data": {
      "text/plain": [
       "<regex.Match object; span=(27, 34), match='catfish'>"
      ]
     },
     "execution_count": 31,
     "metadata": {},
     "output_type": "execute_result"
    }
   ],
   "source": [
    "re.search(r'cat(fish|nap|claw)', my_str12)"
   ]
  },
  {
   "cell_type": "code",
   "execution_count": 32,
   "metadata": {},
   "outputs": [
    {
     "data": {
      "text/plain": [
       "<regex.Match object; span=(32, 38), match='catnap'>"
      ]
     },
     "execution_count": 32,
     "metadata": {},
     "output_type": "execute_result"
    }
   ],
   "source": [
    "re.search(r'cat(fish|nap|claw)', my_str13)"
   ]
  },
  {
   "cell_type": "code",
   "execution_count": 33,
   "metadata": {},
   "outputs": [],
   "source": [
    "re.search(r'cat(fish|nap|claw)', my_str14)"
   ]
  },
  {
   "cell_type": "code",
   "execution_count": 34,
   "metadata": {},
   "outputs": [],
   "source": [
    "my_str12 = 'Hello, would you like some catfish and catnap and catclaw'"
   ]
  },
  {
   "cell_type": "code",
   "execution_count": 35,
   "metadata": {},
   "outputs": [
    {
     "name": "stdout",
     "output_type": "stream",
     "text": [
      "<regex.Match object; span=(27, 34), match='catfish'>\n",
      "<regex.Match object; span=(39, 45), match='catnap'>\n",
      "<regex.Match object; span=(50, 57), match='catclaw'>\n"
     ]
    }
   ],
   "source": [
    "for match1 in re.finditer(r'cat(fish|nap|claw)',my_str12):\n",
    "    print(match1)"
   ]
  },
  {
   "cell_type": "code",
   "execution_count": null,
   "metadata": {},
   "outputs": [],
   "source": []
  }
 ],
 "metadata": {
  "kernelspec": {
   "display_name": "Python 3",
   "language": "python",
   "name": "python3"
  },
  "language_info": {
   "codemirror_mode": {
    "name": "ipython",
    "version": 3
   },
   "file_extension": ".py",
   "mimetype": "text/x-python",
   "name": "python",
   "nbconvert_exporter": "python",
   "pygments_lexer": "ipython3",
   "version": "3.8.5"
  }
 },
 "nbformat": 4,
 "nbformat_minor": 4
}
