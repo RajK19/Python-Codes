{
 "cells": [
  {
   "cell_type": "markdown",
   "metadata": {},
   "source": [
    "## Difference between with clause and assigning open to a variable"
   ]
  },
  {
   "cell_type": "code",
   "execution_count": 5,
   "metadata": {},
   "outputs": [
    {
     "name": "stdout",
     "output_type": "stream",
     "text": [
      "line1: This is the first line of text....Now, we are in second line of text\n",
      "line2: Subsequently, third line of text\n",
      "line3: Finally, fourth ine of text...\n",
      "line4: End of file... Bye...ciou!\n"
     ]
    },
    {
     "ename": "ValueError",
     "evalue": "I/O operation on closed file.",
     "output_type": "error",
     "traceback": [
      "\u001b[1;31m---------------------------------------------------------------------------\u001b[0m",
      "\u001b[1;31mValueError\u001b[0m                                Traceback (most recent call last)",
      "\u001b[1;32m<ipython-input-5-27e00142791a>\u001b[0m in \u001b[0;36m<module>\u001b[1;34m\u001b[0m\n\u001b[0;32m      4\u001b[0m \u001b[1;33m\u001b[0m\u001b[0m\n\u001b[0;32m      5\u001b[0m \u001b[1;33m\u001b[0m\u001b[0m\n\u001b[1;32m----> 6\u001b[1;33m \u001b[0mprint\u001b[0m\u001b[1;33m(\u001b[0m\u001b[0mfile4\u001b[0m\u001b[1;33m.\u001b[0m\u001b[0mtell\u001b[0m\u001b[1;33m(\u001b[0m\u001b[1;33m)\u001b[0m\u001b[1;33m)\u001b[0m\u001b[1;33m\u001b[0m\u001b[1;33m\u001b[0m\u001b[0m\n\u001b[0m",
      "\u001b[1;31mValueError\u001b[0m: I/O operation on closed file."
     ]
    }
   ],
   "source": [
    "with open('app1_r.txt') as file4:\n",
    "    data = file4.read()\n",
    "print(data)\n",
    "\n",
    "\n",
    "print(file4.tell())"
   ]
  },
  {
   "cell_type": "code",
   "execution_count": 6,
   "metadata": {},
   "outputs": [
    {
     "name": "stdout",
     "output_type": "stream",
     "text": [
      "line1: This is the first line of text....Now, we are in second line of text\n",
      "line2: Subsequently, third line of text\n",
      "line3: Finally, fourth ine of text...\n",
      "line4: End of file... Bye...ciou!\n",
      "187\n"
     ]
    }
   ],
   "source": [
    "fileA = open('app1_r.txt','r')\n",
    "data = fileA.read()\n",
    "print(data)\n",
    "\n",
    "\n",
    "print(fileA.tell())"
   ]
  },
  {
   "cell_type": "code",
   "execution_count": 4,
   "metadata": {},
   "outputs": [
    {
     "data": {
      "text/plain": [
       "187"
      ]
     },
     "execution_count": 4,
     "metadata": {},
     "output_type": "execute_result"
    }
   ],
   "source": [
    "file4.tell()"
   ]
  },
  {
   "cell_type": "code",
   "execution_count": 7,
   "metadata": {},
   "outputs": [
    {
     "name": "stdout",
     "output_type": "stream",
     "text": [
      "187\n",
      "line1: This is the first line of text....Now, we are in second line of text\n",
      "line2: Subsequently, third line of text\n",
      "line3: Finally, fourth ine of text...\n",
      "line4: End of file... Bye...ciou!\n"
     ]
    }
   ],
   "source": [
    "with open('app1_r.txt') as file4:\n",
    "    data = file4.read()\n",
    "    print(file4.tell())\n",
    "print(data)\n",
    "\n",
    "\n",
    "# print(file4.tell())"
   ]
  },
  {
   "cell_type": "code",
   "execution_count": 8,
   "metadata": {},
   "outputs": [
    {
     "name": "stdout",
     "output_type": "stream",
     "text": [
      "line1: This is the first line of text....Now, we are in second line of text\n",
      "line2: Subsequently, third line of text\n",
      "line3: Finally, fourth ine of text...\n",
      "line4: End of file... Bye...ciou!\n"
     ]
    },
    {
     "ename": "ValueError",
     "evalue": "I/O operation on closed file.",
     "output_type": "error",
     "traceback": [
      "\u001b[1;31m---------------------------------------------------------------------------\u001b[0m",
      "\u001b[1;31mValueError\u001b[0m                                Traceback (most recent call last)",
      "\u001b[1;32m<ipython-input-8-110ece7ea77a>\u001b[0m in \u001b[0;36m<module>\u001b[1;34m\u001b[0m\n\u001b[0;32m      4\u001b[0m \u001b[1;33m\u001b[0m\u001b[0m\n\u001b[0;32m      5\u001b[0m \u001b[0mfileA\u001b[0m\u001b[1;33m.\u001b[0m\u001b[0mclose\u001b[0m\u001b[1;33m(\u001b[0m\u001b[1;33m)\u001b[0m\u001b[1;33m\u001b[0m\u001b[1;33m\u001b[0m\u001b[0m\n\u001b[1;32m----> 6\u001b[1;33m \u001b[0mprint\u001b[0m\u001b[1;33m(\u001b[0m\u001b[0mfileA\u001b[0m\u001b[1;33m.\u001b[0m\u001b[0mtell\u001b[0m\u001b[1;33m(\u001b[0m\u001b[1;33m)\u001b[0m\u001b[1;33m)\u001b[0m\u001b[1;33m\u001b[0m\u001b[1;33m\u001b[0m\u001b[0m\n\u001b[0m",
      "\u001b[1;31mValueError\u001b[0m: I/O operation on closed file."
     ]
    }
   ],
   "source": [
    "fileA = open('app1_r.txt','r')\n",
    "data = fileA.read()\n",
    "print(data)\n",
    "\n",
    "fileA.close()\n",
    "print(fileA.tell())"
   ]
  },
  {
   "cell_type": "code",
   "execution_count": 13,
   "metadata": {},
   "outputs": [
    {
     "name": "stdout",
     "output_type": "stream",
     "text": [
      "\n"
     ]
    }
   ],
   "source": [
    "with open('app3_w.txt','w') as file5:\n",
    "    file5.write('Inside app3_w.txt \\n')\n",
    "    file5.write('=========================== \\n')\n",
    "    file5.write('Hello World \\n')\n",
    "    file5.write('Creating a text file using with() command!!\\n')\n",
    "    \n",
    "print()\n",
    "#file5.tell()"
   ]
  },
  {
   "cell_type": "code",
   "execution_count": 14,
   "metadata": {},
   "outputs": [
    {
     "name": "stdout",
     "output_type": "stream",
     "text": [
      "Inside app3_w.txt \n",
      "=========================== \n",
      "Hello World \n",
      "Creating a text file using with() command!!\n",
      "\n"
     ]
    }
   ],
   "source": [
    "with open('app3_w.txt','r') as file6:\n",
    "    data1 = file6.read()\n",
    "print(data1)"
   ]
  },
  {
   "cell_type": "code",
   "execution_count": 19,
   "metadata": {},
   "outputs": [
    {
     "name": "stdout",
     "output_type": "stream",
     "text": [
      "\n"
     ]
    }
   ],
   "source": [
    "with open('app3_w.txt','w') as file5:\n",
    "    file5.write('Hello this is new code \\n')\n",
    "    file5.write('=========================== \\n')\n",
    "    file5.write('New code \\n')\n",
    "    file5.write('New code \\n')\n",
    "    \n",
    "print()"
   ]
  },
  {
   "cell_type": "code",
   "execution_count": 20,
   "metadata": {},
   "outputs": [
    {
     "name": "stdout",
     "output_type": "stream",
     "text": [
      "Hello this is new code \n",
      "=========================== \n",
      "New code \n",
      "New code \n",
      "\n"
     ]
    }
   ],
   "source": [
    "with open('app3_w.txt','r') as file6:\n",
    "    data1 = file6.read()\n",
    "print(data1)"
   ]
  },
  {
   "cell_type": "markdown",
   "metadata": {},
   "source": [
    "### Objected oriented programming"
   ]
  },
  {
   "cell_type": "code",
   "execution_count": 21,
   "metadata": {},
   "outputs": [],
   "source": [
    "# ## Class is a list of attributes and methods\n",
    "\n",
    "# concept of classes and objects\n",
    "\n"
   ]
  },
  {
   "cell_type": "code",
   "execution_count": 22,
   "metadata": {
    "scrolled": true
   },
   "outputs": [
    {
     "name": "stdout",
     "output_type": "stream",
     "text": [
      "<class '__main__.Animal'>\n"
     ]
    }
   ],
   "source": [
    "class Animal:\n",
    "    pass\n",
    "\n",
    "A1 = Animal()  #Instance/object of class Animal\n",
    "print(type(A1)) #Object type\n",
    "\n",
    "\n",
    "#variables which are a part of a class = object"
   ]
  },
  {
   "cell_type": "raw",
   "metadata": {},
   "source": [
    "#Inbuilt Functions of a class:\n",
    "\n",
    "__main__()\n",
    "__init__()\n",
    "__del__ ()\n",
    "__len__()\n",
    "__print__()"
   ]
  },
  {
   "cell_type": "code",
   "execution_count": 35,
   "metadata": {},
   "outputs": [
    {
     "name": "stdout",
     "output_type": "stream",
     "text": [
      "<__main__.Birds object at 0x000001F068CBC9D0>\n",
      "<__main__.Birds object at 0x000001F068CBC190>\n"
     ]
    }
   ],
   "source": [
    "class Birds:\n",
    "    category = 'parrots'  #Class level attribute\n",
    "      \n",
    "    def __init__(self, color = 'green',beak = 'red'):  \n",
    "        #initializing object level attributes\n",
    "        #self matlab object hota hai\n",
    "        self.color = color\n",
    "        self.beak = beak\n",
    "        \n",
    "b1 = Birds('blue','yellow')\n",
    "b2 = Birds()\n",
    "\n",
    "print(b1)\n",
    "print(b2)"
   ]
  },
  {
   "cell_type": "code",
   "execution_count": 2,
   "metadata": {},
   "outputs": [],
   "source": [
    "class Birds:\n",
    "    category = 'parrots'  #Class level attribute\n",
    "      \n",
    "    def __init__(self, color = 'green',beak = 'red', region = 'north'):  \n",
    "        #initializing object level attribute\n",
    "        #self matlab object hota hai\n",
    "        self.color = color\n",
    "        self.beak = beak\n",
    "        self.region = region\n",
    "        \n",
    "b1 = Birds('blue','yellow')\n",
    "b2 = Birds()\n",
    "\n",
    "# print(b1)\n",
    "# print(b2)"
   ]
  },
  {
   "cell_type": "code",
   "execution_count": 3,
   "metadata": {},
   "outputs": [],
   "source": [
    "b1 = Birds('blue','yellow','south')\n",
    "b2 = Birds()\n",
    "b3 = Birds('Black','Orange','west')"
   ]
  },
  {
   "cell_type": "code",
   "execution_count": 4,
   "metadata": {},
   "outputs": [
    {
     "name": "stdout",
     "output_type": "stream",
     "text": [
      "<class '__main__.Birds'>\n",
      "b1:  blue yellow south\n"
     ]
    }
   ],
   "source": [
    "print(type(b1))\n",
    "print('b1: ', b1.color, b1.beak, b1.region)"
   ]
  },
  {
   "cell_type": "code",
   "execution_count": 5,
   "metadata": {},
   "outputs": [
    {
     "data": {
      "text/plain": [
       "'parrots'"
      ]
     },
     "execution_count": 5,
     "metadata": {},
     "output_type": "execute_result"
    }
   ],
   "source": [
    "b1.category   #here b1 is the object level attribute\n",
    "#here b1 is object"
   ]
  },
  {
   "cell_type": "code",
   "execution_count": 6,
   "metadata": {},
   "outputs": [
    {
     "data": {
      "text/plain": [
       "'parrots'"
      ]
     },
     "execution_count": 6,
     "metadata": {},
     "output_type": "execute_result"
    }
   ],
   "source": [
    "Birds.category  #here Birds is class level attribute"
   ]
  },
  {
   "cell_type": "code",
   "execution_count": 7,
   "metadata": {},
   "outputs": [],
   "source": [
    "b1 = Birds('blue','yellow','south')\n",
    "b2 = Birds(region='east')\n",
    "b3 = Birds('Black','Orange','west')"
   ]
  },
  {
   "cell_type": "code",
   "execution_count": 8,
   "metadata": {},
   "outputs": [
    {
     "name": "stdout",
     "output_type": "stream",
     "text": [
      "<class '__main__.Birds'>\n",
      "b1:  blue yellow south\n"
     ]
    }
   ],
   "source": [
    "print(type(b1))\n",
    "print('b1: ', b1.color, b1.beak, b1.region)"
   ]
  },
  {
   "cell_type": "code",
   "execution_count": 9,
   "metadata": {},
   "outputs": [
    {
     "name": "stdout",
     "output_type": "stream",
     "text": [
      "<class '__main__.Birds'>\n",
      "b2:  green red east\n"
     ]
    }
   ],
   "source": [
    "print(type(b2))\n",
    "print('b2: ', b2.color, b2.beak, b2.region)"
   ]
  },
  {
   "cell_type": "code",
   "execution_count": 14,
   "metadata": {},
   "outputs": [
    {
     "name": "stdout",
     "output_type": "stream",
     "text": [
      "b3:  Black\n"
     ]
    }
   ],
   "source": [
    "print('b3: ', b3.color)"
   ]
  },
  {
   "cell_type": "code",
   "execution_count": 46,
   "metadata": {},
   "outputs": [],
   "source": [
    "l1 = [1,2,3]\n",
    "l1.append(3)"
   ]
  },
  {
   "cell_type": "raw",
   "metadata": {},
   "source": [
    "__init__ is inbult method\n",
    "\n",
    "getArea() and getCircumference are user defined methods"
   ]
  },
  {
   "cell_type": "code",
   "execution_count": 49,
   "metadata": {},
   "outputs": [],
   "source": [
    "class Circle:\n",
    "    category = 'Rounded Shape'  #Class level Attribute\n",
    "    pi = 3.14\n",
    "    \n",
    "    def __init__(self, radius=1):  #Initialize object level attributes\n",
    "        print('Initialzing new circle Object with radius as: ', radius)\n",
    "        self.radius = radius\n",
    "        \n",
    "    \n",
    "    def getArea(self):\n",
    "        return Circle.pi*(self.radius)**2\n",
    "    \n",
    "    def getCircumference(self):\n",
    "        return 2*self.pi*self.radius   #pi is a class variable \n",
    "                                       #and can be accessed using class or object"
   ]
  },
  {
   "cell_type": "code",
   "execution_count": null,
   "metadata": {},
   "outputs": [],
   "source": [
    "## self.pi is similar to pi"
   ]
  },
  {
   "cell_type": "code",
   "execution_count": 51,
   "metadata": {},
   "outputs": [
    {
     "name": "stdout",
     "output_type": "stream",
     "text": [
      "Initialzing new circle Object with radius as:  1\n"
     ]
    }
   ],
   "source": [
    "##__init__ object gets called by default\n",
    "c1= Circle()"
   ]
  },
  {
   "cell_type": "code",
   "execution_count": 52,
   "metadata": {},
   "outputs": [
    {
     "name": "stdout",
     "output_type": "stream",
     "text": [
      "Initialzing new circle Object with radius as:  99\n"
     ]
    }
   ],
   "source": [
    "c2 = Circle(99)"
   ]
  },
  {
   "cell_type": "code",
   "execution_count": 53,
   "metadata": {},
   "outputs": [
    {
     "name": "stdout",
     "output_type": "stream",
     "text": [
      "C1 Area:  3.14 C2 Area:  30775.14\n"
     ]
    }
   ],
   "source": [
    "print('C1 Area: ', c1.getArea(), \"C2 Area: \", c2.getArea())"
   ]
  },
  {
   "cell_type": "code",
   "execution_count": 54,
   "metadata": {},
   "outputs": [
    {
     "name": "stdout",
     "output_type": "stream",
     "text": [
      "Initialzing new circle Object with radius as:  1\n"
     ]
    },
    {
     "data": {
      "text/plain": [
       "__main__.Circle"
      ]
     },
     "execution_count": 54,
     "metadata": {},
     "output_type": "execute_result"
    }
   ],
   "source": [
    "type(Circle())"
   ]
  },
  {
   "cell_type": "code",
   "execution_count": 55,
   "metadata": {},
   "outputs": [
    {
     "name": "stdout",
     "output_type": "stream",
     "text": [
      "C2 Circum:  6.28 C2 Circum:  621.72\n"
     ]
    }
   ],
   "source": [
    "print('C2 Circum: ', c1.getCircumference(), 'C2 Circum: ', c2.getCircumference())"
   ]
  },
  {
   "cell_type": "code",
   "execution_count": 57,
   "metadata": {},
   "outputs": [
    {
     "name": "stdout",
     "output_type": "stream",
     "text": [
      "Initialzing new circle Object with radius as:  1\n"
     ]
    },
    {
     "data": {
      "text/plain": [
       "6.28"
      ]
     },
     "execution_count": 57,
     "metadata": {},
     "output_type": "execute_result"
    }
   ],
   "source": [
    "apple = Circle()\n",
    "apple.getCircumference()"
   ]
  },
  {
   "cell_type": "markdown",
   "metadata": {},
   "source": [
    "### Inheritance syntax"
   ]
  },
  {
   "cell_type": "code",
   "execution_count": 58,
   "metadata": {},
   "outputs": [],
   "source": [
    "## class Childclass(ParentClass)"
   ]
  },
  {
   "cell_type": "code",
   "execution_count": 61,
   "metadata": {},
   "outputs": [],
   "source": [
    "# T2.3 / Example 6: Inheritance Program for class Animal (Parent) - class Cat (Child)\n",
    "\n",
    "class Animal:\n",
    "    species = 'mammals'\n",
    "    \n",
    "    def __init__(self):\n",
    "        print(\"Inside Animal Class - Animal Created\")\n",
    "\n",
    "    def whoAmI(self):\n",
    "        print(\"Inside Animal Class - \",Animal.species)\n",
    "\n",
    "    def eatingHabit(self):\n",
    "        print(\"Inside Animal Class - Non-Vegetarian\")\n",
    "        \n",
    "class Cat(Animal):\n",
    "    def __init__(self):\n",
    "        Animal.__init__(self)\n",
    "        print(\"Inside Cat Class - Cat Created\")\n",
    "\n",
    "        #Overrides method in PArent class\n",
    "    def whoAmI(self):\n",
    "        print(\"Invoking Class Variable in Cat Class - \", Animal.species)\n",
    "        print(\"Inside Cat Class - Specifically, I am Cat !\")\n",
    "\n",
    "        #New Method in child class - Extends the functionality of parent class\n",
    "    def voice(self):                            \n",
    "        print(\"Inside Cat Class - Meow!\")\n",
    "    "
   ]
  },
  {
   "cell_type": "code",
   "execution_count": 62,
   "metadata": {},
   "outputs": [
    {
     "name": "stdout",
     "output_type": "stream",
     "text": [
      "Inside Animal Class - Animal Created\n",
      "Inside Cat Class - Cat Created\n"
     ]
    }
   ],
   "source": [
    "c = Cat()"
   ]
  },
  {
   "cell_type": "code",
   "execution_count": 63,
   "metadata": {},
   "outputs": [],
   "source": [
    "# T2.3 / Example 6: Inheritance Program for class Animal (Parent) - class Cat (Child)\n",
    "\n",
    "class Animal:\n",
    "    species = 'mammals'\n",
    "    \n",
    "    def __init__(self):\n",
    "        print(\"Inside Animal Class - Animal Created\")\n",
    "\n",
    "    def whoAmI(self):\n",
    "        print(\"Inside Animal Class - \",Animal.species)\n",
    "\n",
    "    def eatingHabit(self):\n",
    "        print(\"Inside Animal Class - Non-Vegetarian\")\n",
    "        \n",
    "class Cat(Animal):\n",
    "#     def __init__(self):\n",
    "#         Animal.__init__(self)\n",
    "#         print(\"Inside Cat Class - Cat Created\")\n",
    "\n",
    "        #Overrides method in PArent class\n",
    "    def whoAmI(self):\n",
    "        print(\"Invoking Class Variable in Cat Class - \", Animal.species)\n",
    "        print(\"Inside Cat Class - Specifically, I am Cat !\")\n",
    "\n",
    "        #New Method in child class - Extends the functionality of parent class\n",
    "    def voice(self):                            \n",
    "        print(\"Inside Cat Class - Meow!\")\n",
    "    \n",
    "    "
   ]
  },
  {
   "cell_type": "code",
   "execution_count": 64,
   "metadata": {},
   "outputs": [
    {
     "name": "stdout",
     "output_type": "stream",
     "text": [
      "Inside Animal Class - Animal Created\n"
     ]
    }
   ],
   "source": [
    "c = Cat()\n",
    "\n",
    "#by default it calls the __init__ inbuilt method whether or not the __init__ method is called"
   ]
  },
  {
   "cell_type": "code",
   "execution_count": 67,
   "metadata": {},
   "outputs": [],
   "source": [
    "# T2.3 / Example 6: Inheritance Program for class Animal (Parent) - class Cat (Child)\n",
    "\n",
    "class Animal:\n",
    "    species = 'mammals'\n",
    "    \n",
    "    def __init__(self):\n",
    "        print(\"Inside Animal Class - Animal Created\")\n",
    "\n",
    "    def whoAmI(self):\n",
    "        print(\"Inside Animal Class - \",Animal.species)\n",
    "\n",
    "    def eatingHabit(self):\n",
    "        print(\"Inside Animal Class - Non-Vegetarian\")\n",
    "        \n",
    "class Cat(Animal):\n",
    "    def __init__(self):\n",
    "        print(\"Inside Cat Class - Cat Created\")\n",
    "#         Animal.__init__(self)\n",
    "         \n",
    "\n",
    "        #Overrides method in PArent class\n",
    "    def whoAmI(self):\n",
    "        print(\"Invoking Class Variable in Cat Class - \", Animal.species)\n",
    "        print(\"Inside Cat Class - Specifically, I am Cat !\")\n",
    "\n",
    "        #New Method in child class - Extends the functionality of parent class\n",
    "    def voice(self):                            \n",
    "        print(\"Inside Cat Class - Meow!\")\n",
    "    \n",
    "    "
   ]
  },
  {
   "cell_type": "code",
   "execution_count": 68,
   "metadata": {},
   "outputs": [
    {
     "name": "stdout",
     "output_type": "stream",
     "text": [
      "Inside Cat Class - Cat Created\n"
     ]
    }
   ],
   "source": [
    "c = Cat()"
   ]
  },
  {
   "cell_type": "code",
   "execution_count": 70,
   "metadata": {},
   "outputs": [],
   "source": [
    "# T2.3 / Example 6: Inheritance Program for class Animal (Parent) - class Cat (Child)\n",
    "\n",
    "class Animal:\n",
    "    species = 'mammals'\n",
    "    \n",
    "#     def __init__(self):\n",
    "#         print(\"Inside Animal Class - Animal Created\")\n",
    "\n",
    "    def whoAmI(self):\n",
    "        print(\"Inside Animal Class - \",Animal.species)\n",
    "\n",
    "    def eatingHabit(self):\n",
    "        print(\"Inside Animal Class - Non-Vegetarian\")\n",
    "        \n",
    "class Cat(Animal):\n",
    "    def __init__(self):\n",
    "        Animal.__init__(self)\n",
    "        print(\"Inside Cat Class - Cat Created\")\n",
    "#         \n",
    "         \n",
    "\n",
    "        #Overrides method in PArent class\n",
    "    def whoAmI(self):\n",
    "        print(\"Invoking Class Variable in Cat Class - \", Animal.species)\n",
    "        print(\"Inside Cat Class - Specifically, I am Cat !\")\n",
    "\n",
    "        #New Method in child class - Extends the functionality of parent class\n",
    "    def voice(self):                            \n",
    "        print(\"Inside Cat Class - Meow!\")\n",
    "    \n",
    "    "
   ]
  },
  {
   "cell_type": "code",
   "execution_count": 71,
   "metadata": {},
   "outputs": [
    {
     "name": "stdout",
     "output_type": "stream",
     "text": [
      "Inside Cat Class - Cat Created\n"
     ]
    }
   ],
   "source": [
    "c = Cat()"
   ]
  },
  {
   "cell_type": "code",
   "execution_count": 72,
   "metadata": {},
   "outputs": [],
   "source": [
    "# T2.3 / Example 6: Inheritance Program for class Animal (Parent) - class Cat (Child)\n",
    "\n",
    "class Animal:\n",
    "    species = 'mammals'\n",
    "    \n",
    "    def __init__(self):\n",
    "        print(\"Inside Animal Class - Animal Created\")\n",
    "\n",
    "    def whoAmI(self):\n",
    "        print(\"Inside Animal Class - \",Animal.species)\n",
    "\n",
    "    def eatingHabit(self):\n",
    "        print(\"Inside Animal Class - Non-Vegetarian\")\n",
    "        \n",
    "class Cat(Animal):\n",
    "    def __init__(self):\n",
    "        Animal.__init__(self)\n",
    "        print(\"Inside Cat Class - Cat Created\")\n",
    "\n",
    "        #Overrides method in PArent class\n",
    "    def whoAmI(self):\n",
    "        print(\"Invoking Class Variable in Cat Class - \", Animal.species)\n",
    "        print(\"Inside Cat Class - Specifically, I am Cat !\")\n",
    "\n",
    "        #New Method in child class - Extends the functionality of parent class\n",
    "    def voice(self):                            \n",
    "        print(\"Inside Cat Class - Meow!\")\n",
    "    "
   ]
  },
  {
   "cell_type": "code",
   "execution_count": 73,
   "metadata": {},
   "outputs": [
    {
     "name": "stdout",
     "output_type": "stream",
     "text": [
      "Inside Animal Class - Animal Created\n",
      "Inside Cat Class - Cat Created\n"
     ]
    }
   ],
   "source": [
    "c = Cat()"
   ]
  },
  {
   "cell_type": "code",
   "execution_count": 74,
   "metadata": {},
   "outputs": [
    {
     "name": "stdout",
     "output_type": "stream",
     "text": [
      "Invoking Class Variable in Cat Class -  mammals\n",
      "Inside Cat Class - Specifically, I am Cat !\n"
     ]
    }
   ],
   "source": [
    "c.whoAmI()"
   ]
  },
  {
   "cell_type": "code",
   "execution_count": 75,
   "metadata": {},
   "outputs": [
    {
     "name": "stdout",
     "output_type": "stream",
     "text": [
      "Inside Animal Class - Non-Vegetarian\n"
     ]
    }
   ],
   "source": [
    "c.eatingHabit()"
   ]
  },
  {
   "cell_type": "code",
   "execution_count": 76,
   "metadata": {},
   "outputs": [
    {
     "name": "stdout",
     "output_type": "stream",
     "text": [
      "Inside Cat Class - Meow!\n"
     ]
    }
   ],
   "source": [
    "c.voice()"
   ]
  },
  {
   "cell_type": "markdown",
   "metadata": {},
   "source": [
    "## Polymorphism"
   ]
  },
  {
   "cell_type": "markdown",
   "metadata": {},
   "source": [
    "### T2.4 - Polymorphism\n",
    "* A concept of Abstract Class and Child Classes using the same method name. However, different implementation of the same method gets initiated depending upon the object type. For example, both cat Class and dog Class have eat() method. However, method specific to cat Class or dog Class will get invoked depending upon the object type.\n",
    "\n",
    "* Useful when u have an Abstract Class, which is never intended to be instantiatied followed by Child classes overriding the methods in Abstract classes\n",
    "\n",
    "* Polymorphism Examples:\n",
    "    - opening different file types requiring different tools to display Word, pdf and Excel files\n",
    "    - adding different objects where same + operator performs different arithmetic and concatenation"
   ]
  },
  {
   "cell_type": "code",
   "execution_count": 2,
   "metadata": {},
   "outputs": [],
   "source": [
    "# T2.4 - Example 7 - POlymorphism - Parrot and Duck\n",
    "\n",
    "class Parrot:\n",
    "    type = 'parrot'\n",
    "    def __init__(self, name='champ', color='green', beak='red', like='green chilly'):\n",
    "        self.name = name\n",
    "        self.color = color\n",
    "        self.beak = beak\n",
    "        self.like = like\n",
    "\n",
    "    def eat(self):\n",
    "        return f\"{self.name} is {self.type}; has {self.beak} beak; likes {self.like}\""
   ]
  },
  {
   "cell_type": "code",
   "execution_count": 4,
   "metadata": {},
   "outputs": [
    {
     "name": "stdout",
     "output_type": "stream",
     "text": [
      "<__main__.Parrot object at 0x0000022811BE41F0>\n"
     ]
    }
   ],
   "source": [
    "p1 = Parrot()\n",
    "print(p1)"
   ]
  },
  {
   "cell_type": "code",
   "execution_count": 7,
   "metadata": {},
   "outputs": [],
   "source": [
    "class Duck:\n",
    "    type = 'duck'\n",
    "    def __init__(self, name='aqua', color='white', beak='brown', like='fish'):\n",
    "        self.name = name\n",
    "        self.color = color\n",
    "        self.beak = beak\n",
    "        self.like = like\n",
    "\n",
    "    def eat(self):\n",
    "        return f\"{self.name} is {Duck.type}; has {self.beak} beak; likes {self.like}\"\n",
    "    \n",
    "\n"
   ]
  },
  {
   "cell_type": "code",
   "execution_count": 8,
   "metadata": {},
   "outputs": [
    {
     "name": "stdout",
     "output_type": "stream",
     "text": [
      "<__main__.Duck object at 0x0000022811BE4EE0>\n"
     ]
    }
   ],
   "source": [
    "# p1 = Parrot()\n",
    "d1 = Duck(beak = 'blue')\n",
    "\n",
    "print(d1)"
   ]
  },
  {
   "cell_type": "code",
   "execution_count": 9,
   "metadata": {},
   "outputs": [
    {
     "data": {
      "text/plain": [
       "'champ is parrot; has red beak; likes green chilly'"
      ]
     },
     "execution_count": 9,
     "metadata": {},
     "output_type": "execute_result"
    }
   ],
   "source": [
    "p1.eat()"
   ]
  },
  {
   "cell_type": "code",
   "execution_count": 11,
   "metadata": {},
   "outputs": [
    {
     "data": {
      "text/plain": [
       "'aqua is duck; has blue beak; likes fish'"
      ]
     },
     "execution_count": 11,
     "metadata": {},
     "output_type": "execute_result"
    }
   ],
   "source": [
    "d1.eat()"
   ]
  },
  {
   "cell_type": "code",
   "execution_count": 30,
   "metadata": {},
   "outputs": [],
   "source": [
    "# T2.4 - Example 9 - Inheritance and POlymorphism\n",
    "#Abstract Class (BIRD) with Parrot and Duck (Child Classes)\n",
    "\n",
    "class Bird:\n",
    "    type = 'abstract'\n",
    "    def __init__(self, name, color, beak, like):\n",
    "        print('Inside Bird init()')\n",
    "        self.name = name\n",
    "        self.color = color\n",
    "        self.beak = beak\n",
    "        self.like = like\n",
    "\n",
    "    def eat(self):             # Abstract method, defined by convention only\n",
    "        print('Inside Bird.eat()')\n",
    "        return NotImplementedError(\"Subclass must implement abstract method\")\n",
    "\n",
    "\n",
    "class Parrot (Bird):\n",
    "    type = 'parrot'\n",
    "    \n",
    "    def eat(self):\n",
    "        print('Inside Parrot.eat()')\n",
    "        return f\"{self.name} is {self.type}; has {self.beak} beak; likes {self.like}\"\n",
    "    \n",
    "class Duck (Bird):\n",
    "    type = 'duck'\n",
    "       \n",
    "    def eat(self):\n",
    "        print('Inside Duck.eat()')\n",
    "        return f\"{self.name} is {Duck.type}; has {self.beak} beak; likes {self.like}\"\n",
    "    \n",
    "    \n",
    "\n",
    "\n"
   ]
  },
  {
   "cell_type": "code",
   "execution_count": 31,
   "metadata": {},
   "outputs": [
    {
     "name": "stdout",
     "output_type": "stream",
     "text": [
      "Inside Bird init()\n"
     ]
    }
   ],
   "source": [
    "p1 = Parrot(name='champ', color='green', beak='red', like='green chilly')\n"
   ]
  },
  {
   "cell_type": "code",
   "execution_count": 32,
   "metadata": {},
   "outputs": [
    {
     "name": "stdout",
     "output_type": "stream",
     "text": [
      "Inside Bird init()\n"
     ]
    }
   ],
   "source": [
    "d1 = Duck(name='aqua', color='white', beak='brown', like='fish')\n"
   ]
  },
  {
   "cell_type": "code",
   "execution_count": 33,
   "metadata": {},
   "outputs": [
    {
     "name": "stdout",
     "output_type": "stream",
     "text": [
      "Inside Bird init()\n"
     ]
    }
   ],
   "source": [
    "b1 = Bird(name = 'noname', color = 'nocolor', beak = 'none', like = 'na')"
   ]
  },
  {
   "cell_type": "code",
   "execution_count": 34,
   "metadata": {},
   "outputs": [
    {
     "name": "stdout",
     "output_type": "stream",
     "text": [
      "Inside Parrot.eat()\n",
      "champ is parrot; has red beak; likes green chilly\n",
      "Inside Duck.eat()\n",
      "aqua is duck; has brown beak; likes fish\n"
     ]
    }
   ],
   "source": [
    "print(p1.eat())\n",
    "print(d1.eat())"
   ]
  },
  {
   "cell_type": "code",
   "execution_count": 35,
   "metadata": {},
   "outputs": [
    {
     "name": "stdout",
     "output_type": "stream",
     "text": [
      "Inside Duck.eat()\n"
     ]
    },
    {
     "data": {
      "text/plain": [
       "'aqua is duck; has brown beak; likes fish'"
      ]
     },
     "execution_count": 35,
     "metadata": {},
     "output_type": "execute_result"
    }
   ],
   "source": [
    "d1.eat()"
   ]
  },
  {
   "cell_type": "code",
   "execution_count": 36,
   "metadata": {},
   "outputs": [
    {
     "name": "stdout",
     "output_type": "stream",
     "text": [
      "Inside Parrot.eat()\n"
     ]
    },
    {
     "data": {
      "text/plain": [
       "'champ is parrot; has red beak; likes green chilly'"
      ]
     },
     "execution_count": 36,
     "metadata": {},
     "output_type": "execute_result"
    }
   ],
   "source": [
    "p1.eat()"
   ]
  },
  {
   "cell_type": "code",
   "execution_count": 37,
   "metadata": {},
   "outputs": [
    {
     "name": "stdout",
     "output_type": "stream",
     "text": [
      "Inside Bird.eat()\n"
     ]
    },
    {
     "data": {
      "text/plain": [
       "NotImplementedError('Subclass must implement abstract method')"
      ]
     },
     "execution_count": 37,
     "metadata": {},
     "output_type": "execute_result"
    }
   ],
   "source": [
    "b1.eat()"
   ]
  },
  {
   "cell_type": "code",
   "execution_count": 39,
   "metadata": {},
   "outputs": [
    {
     "data": {
      "text/plain": [
       "<__main__.Bird at 0x22811c1c5b0>"
      ]
     },
     "execution_count": 39,
     "metadata": {},
     "output_type": "execute_result"
    }
   ],
   "source": [
    "b1"
   ]
  },
  {
   "cell_type": "code",
   "execution_count": 64,
   "metadata": {},
   "outputs": [
    {
     "name": "stdout",
     "output_type": "stream",
     "text": [
      "<__main__.Parrot object at 0x0000022811C47CA0>\n"
     ]
    }
   ],
   "source": [
    "print(p1)    #inline __str__ method, only works with print(),since there's no __str__ it prints address by default"
   ]
  },
  {
   "cell_type": "code",
   "execution_count": 65,
   "metadata": {},
   "outputs": [
    {
     "name": "stdout",
     "output_type": "stream",
     "text": [
      "<__main__.Bird object at 0x0000022811C1C5B0>\n"
     ]
    }
   ],
   "source": [
    "print(b1)    #inline __str__ method, only works with print(), since there's no __str__ it prints address by default"
   ]
  },
  {
   "cell_type": "code",
   "execution_count": 66,
   "metadata": {},
   "outputs": [
    {
     "name": "stdout",
     "output_type": "stream",
     "text": [
      "<__main__.Duck object at 0x0000022811C47730>\n"
     ]
    }
   ],
   "source": [
    "print(d1)    #inline __str__ method, only works with print(), since there's no __str__ it prints address by default"
   ]
  },
  {
   "cell_type": "markdown",
   "metadata": {},
   "source": [
    "### T2.5 - Special Methods\n",
    "* Classes in Python can implement certain operations with special method names. \n",
    "\n",
    "* These methods are not actually called directly but by Python specific language syntax. \n",
    "\n",
    "*  __init__(), __str__(), __len__() and __del__() methods\n",
    "\n",
    "* These special methods are defined by their use of underscores. They allow us to use Python specific functions on objects created through our class.\n"
   ]
  },
  {
   "cell_type": "code",
   "execution_count": 62,
   "metadata": {},
   "outputs": [],
   "source": [
    "#T2.5 - Example 10 - Using Special Methods in Class definition\n",
    "\n",
    "class BABD:\n",
    "    def __init__(self, subj_count, stu_count, avg_CGPA, avg_age):\n",
    "        print(\"BABD instance is created\")\n",
    "        self.subj_count = subj_count\n",
    "        self.stu_count = stu_count\n",
    "        self.avg_CGPA = avg_CGPA\n",
    "        self.avg_age = avg_age\n",
    "        \n",
    "    def __str__(self):          #Invoked in print\n",
    "        print('Inside built-in __str__()')\n",
    "        return f\"Subjects: {self.subj_count}, Students: {self.stu_count},\\nAvg CGPA: {self.avg_CGPA}, Avg Age: {self.avg_age}\" \n",
    "    \n",
    "    def __len__(self):         #HoW many students\n",
    "        print('Inside built-in __len__()')\n",
    "        return self.stu_count\n",
    "\n",
    "    def __del__(self):\n",
    "        print(\"BABD instance is deleted\")\n",
    "\n",
    "        "
   ]
  },
  {
   "cell_type": "code",
   "execution_count": 63,
   "metadata": {},
   "outputs": [
    {
     "name": "stdout",
     "output_type": "stream",
     "text": [
      "BABD instance is created\n",
      "BABD instance is deleted\n"
     ]
    }
   ],
   "source": [
    "babd1 = BABD(23, 36, 8.45, 23.6)"
   ]
  },
  {
   "cell_type": "code",
   "execution_count": 58,
   "metadata": {},
   "outputs": [
    {
     "name": "stdout",
     "output_type": "stream",
     "text": [
      "BABD instance is created\n",
      "BABD instance is deleted\n"
     ]
    }
   ],
   "source": [
    "babd2 = BABD(46,72,0.15,25)"
   ]
  },
  {
   "cell_type": "code",
   "execution_count": 59,
   "metadata": {},
   "outputs": [
    {
     "name": "stdout",
     "output_type": "stream",
     "text": [
      "Inside built-in __str__()\n",
      "Subjects: 23, Students: 36,\n",
      "Avg CGPA: 8.45, Avg Age: 23.6\n"
     ]
    }
   ],
   "source": [
    "print(babd1) #inline __str__ method, only works with print(),"
   ]
  },
  {
   "cell_type": "code",
   "execution_count": null,
   "metadata": {},
   "outputs": [],
   "source": []
  },
  {
   "cell_type": "code",
   "execution_count": 60,
   "metadata": {},
   "outputs": [
    {
     "name": "stdout",
     "output_type": "stream",
     "text": [
      "Inside built-in __str__()\n",
      "Subjects: 46, Students: 72,\n",
      "Avg CGPA: 0.15, Avg Age: 25\n"
     ]
    }
   ],
   "source": [
    "print(babd2)  #inline __str__ method, only works with print(),"
   ]
  },
  {
   "cell_type": "code",
   "execution_count": 61,
   "metadata": {},
   "outputs": [
    {
     "name": "stdout",
     "output_type": "stream",
     "text": [
      "Inside built-in __len__()\n",
      "36\n",
      "****************************************\n",
      "Inside built-in __len__()\n",
      "72\n"
     ]
    }
   ],
   "source": [
    "print(len(babd1))\n",
    "print('****'*10)\n",
    "print(len(babd2))"
   ]
  },
  {
   "cell_type": "code",
   "execution_count": 67,
   "metadata": {},
   "outputs": [
    {
     "name": "stdout",
     "output_type": "stream",
     "text": [
      "Inside built-in __len__()\n",
      "36\n"
     ]
    }
   ],
   "source": [
    "print(len(babd1))"
   ]
  },
  {
   "cell_type": "code",
   "execution_count": 68,
   "metadata": {},
   "outputs": [
    {
     "name": "stdout",
     "output_type": "stream",
     "text": [
      "Inside built-in __len__()\n",
      "72\n"
     ]
    }
   ],
   "source": [
    "print(len(babd2))"
   ]
  },
  {
   "cell_type": "code",
   "execution_count": 69,
   "metadata": {},
   "outputs": [
    {
     "name": "stdout",
     "output_type": "stream",
     "text": [
      "BABD instance is deleted\n"
     ]
    }
   ],
   "source": [
    "del babd1"
   ]
  },
  {
   "cell_type": "code",
   "execution_count": 70,
   "metadata": {},
   "outputs": [
    {
     "name": "stdout",
     "output_type": "stream",
     "text": [
      "BABD instance is deleted\n"
     ]
    }
   ],
   "source": [
    "del babd2"
   ]
  },
  {
   "cell_type": "markdown",
   "metadata": {},
   "source": [
    "## Exception Handling"
   ]
  },
  {
   "cell_type": "code",
   "execution_count": 72,
   "metadata": {},
   "outputs": [
    {
     "ename": "NameError",
     "evalue": "name 'Hello' is not defined",
     "output_type": "error",
     "traceback": [
      "\u001b[1;31m---------------------------------------------------------------------------\u001b[0m",
      "\u001b[1;31mNameError\u001b[0m                                 Traceback (most recent call last)",
      "\u001b[1;32m<ipython-input-72-85bf5114fa6b>\u001b[0m in \u001b[0;36m<module>\u001b[1;34m\u001b[0m\n\u001b[1;32m----> 1\u001b[1;33m \u001b[0mprint\u001b[0m\u001b[1;33m(\u001b[0m\u001b[0mHello\u001b[0m\u001b[1;33m)\u001b[0m\u001b[1;33m\u001b[0m\u001b[1;33m\u001b[0m\u001b[0m\n\u001b[0m",
      "\u001b[1;31mNameError\u001b[0m: name 'Hello' is not defined"
     ]
    }
   ],
   "source": [
    "print(Hello)"
   ]
  },
  {
   "cell_type": "code",
   "execution_count": 73,
   "metadata": {},
   "outputs": [
    {
     "name": "stdout",
     "output_type": "stream",
     "text": [
      "Incorrect string format passed\n"
     ]
    }
   ],
   "source": [
    "try:\n",
    "    print(Hello)\n",
    "except:\n",
    "    print('Incorrect string format passed')"
   ]
  },
  {
   "cell_type": "code",
   "execution_count": 74,
   "metadata": {},
   "outputs": [
    {
     "name": "stdout",
     "output_type": "stream",
     "text": [
      "NameError is returned; Print should have string in quotes\n"
     ]
    }
   ],
   "source": [
    "try:\n",
    "    print(Hello)\n",
    "except NameError:\n",
    "    print('NameError is returned; Print should have string in quotes')\n",
    "except:\n",
    "    print('Incorrect String format passed')"
   ]
  },
  {
   "cell_type": "code",
   "execution_count": 76,
   "metadata": {},
   "outputs": [
    {
     "ename": "SyntaxError",
     "evalue": "default 'except:' must be last (<ipython-input-76-54c0d3f1b8a2>, line 2)",
     "output_type": "error",
     "traceback": [
      "\u001b[1;36m  File \u001b[1;32m\"<ipython-input-76-54c0d3f1b8a2>\"\u001b[1;36m, line \u001b[1;32m2\u001b[0m\n\u001b[1;33m    print(Hello)\u001b[0m\n\u001b[1;37m    ^\u001b[0m\n\u001b[1;31mSyntaxError\u001b[0m\u001b[1;31m:\u001b[0m default 'except:' must be last\n"
     ]
    }
   ],
   "source": [
    "try:\n",
    "    print(Hello)\n",
    "except:\n",
    "    print('Incorrect String format passed')\n",
    "except NameError:\n",
    "    print('NameError is returned; Print should have string in quotes')"
   ]
  },
  {
   "cell_type": "code",
   "execution_count": 78,
   "metadata": {},
   "outputs": [
    {
     "name": "stdout",
     "output_type": "stream",
     "text": [
      "Hello\n",
      "Inside Else Block\n"
     ]
    }
   ],
   "source": [
    "try:\n",
    "    print('Hello')\n",
    "except NameError:\n",
    "    print('NameError is returned; Print should have string in quotes')\n",
    "except:\n",
    "    print('Incorrect String format passed')\n",
    "else:\n",
    "    print('Inside Else Block')  #optional else block, flow comes in this code when there's no flow passing through except block"
   ]
  },
  {
   "cell_type": "code",
   "execution_count": 79,
   "metadata": {},
   "outputs": [
    {
     "name": "stdout",
     "output_type": "stream",
     "text": [
      "NameError is returned; Print should have string in quotes\n"
     ]
    }
   ],
   "source": [
    "try:\n",
    "    print(Hello)\n",
    "except NameError:\n",
    "    print('NameError is returned; Print should have string in quotes')\n",
    "except:\n",
    "    print('Incorrect String format passed')\n",
    "else:\n",
    "    print('Inside Else Block')"
   ]
  },
  {
   "cell_type": "code",
   "execution_count": 80,
   "metadata": {},
   "outputs": [
    {
     "name": "stdout",
     "output_type": "stream",
     "text": [
      "Hello\n",
      "Inside Else Block\n",
      "Hey we are in the final stage\n"
     ]
    }
   ],
   "source": [
    "try:\n",
    "    print('Hello')\n",
    "except NameError:\n",
    "    print('NameError is returned; Print should have string in quotes')\n",
    "except:\n",
    "    print('Incorrect String format passed')\n",
    "else:\n",
    "    print('Inside Else Block')\n",
    "finally:\n",
    "    print('Hey we are in the final stage')"
   ]
  },
  {
   "cell_type": "code",
   "execution_count": 81,
   "metadata": {},
   "outputs": [
    {
     "ename": "SyntaxError",
     "evalue": "default 'except:' must be last (<ipython-input-81-ecc0ab2e8c74>, line 2)",
     "output_type": "error",
     "traceback": [
      "\u001b[1;36m  File \u001b[1;32m\"<ipython-input-81-ecc0ab2e8c74>\"\u001b[1;36m, line \u001b[1;32m2\u001b[0m\n\u001b[1;33m    print('Hello')\u001b[0m\n\u001b[1;37m    ^\u001b[0m\n\u001b[1;31mSyntaxError\u001b[0m\u001b[1;31m:\u001b[0m default 'except:' must be last\n"
     ]
    }
   ],
   "source": [
    "try:\n",
    "    print('Hello')\n",
    "except:\n",
    "    print('Incorrect String format passed')\n",
    "except NameError:\n",
    "    print('NameError is returned; Print should have string in quotes')\n",
    "else:\n",
    "    print('Inside Else Block')\n",
    "finally:\n",
    "    print('Hey we are in the final stage')"
   ]
  },
  {
   "cell_type": "code",
   "execution_count": 83,
   "metadata": {},
   "outputs": [
    {
     "name": "stdout",
     "output_type": "stream",
     "text": [
      "NameError is returned; Print should have string in quotes\n",
      "Hey we are in the final stage\n"
     ]
    }
   ],
   "source": [
    "try:\n",
    "    print(Hello)\n",
    "except NameError:\n",
    "    print('NameError is returned; Print should have string in quotes')\n",
    "except:\n",
    "    print('Incorrect String format passed')\n",
    "else:\n",
    "    print('Inside Else Block')\n",
    "finally:\n",
    "    print('Hey we are in the final stage')"
   ]
  },
  {
   "cell_type": "code",
   "execution_count": 84,
   "metadata": {},
   "outputs": [
    {
     "name": "stdout",
     "output_type": "stream",
     "text": [
      "Inside else block - Content written successfully\n",
      "Inside finally block - final statement before leaving\n"
     ]
    }
   ],
   "source": [
    "\n",
    "# Example 2.2.5 - Open a testfile for writing and write the message - No Exception logic\n",
    "\n",
    "try:\n",
    "    f = open('testfile1','w')\n",
    "    f.write('My first line in testfile1')\n",
    "except IOError:\n",
    "    # This will only check for an IOError exception and then execute this print statement\n",
    "    print(\"Inside IOError Execption Block: Could not find file or read data\")\n",
    "except:\n",
    "    print(\"INside General Exception Block\")\n",
    "else:\n",
    "    print(\"Inside else block - Content written successfully\")\n",
    "    f.close()\n",
    "finally:\n",
    "    print(\"Inside finally block - final statement before leaving\")"
   ]
  },
  {
   "cell_type": "code",
   "execution_count": 85,
   "metadata": {},
   "outputs": [
    {
     "name": "stdout",
     "output_type": "stream",
     "text": [
      "Inside IOError Execption Block: Could not find file or read data\n",
      "Inside finally block - final statement before leaving\n"
     ]
    }
   ],
   "source": [
    "\n",
    "# Example 2.2.5 - Open a testfile for writing and write the message - No Exception logic\n",
    "\n",
    "try:\n",
    "    f = open('testfile101','r')\n",
    "    f.write('My first line in testfile1')\n",
    "except IOError:\n",
    "    # This will only check for an IOError exception and then execute this print statement\n",
    "    print(\"Inside IOError Execption Block: Could not find file or read data\")\n",
    "except:\n",
    "    print(\"INside General Exception Block\")\n",
    "else:\n",
    "    print(\"Inside else block - Content written successfully\")\n",
    "    f.close()\n",
    "finally:\n",
    "    print(\"Inside finally block - final statement before leaving\")"
   ]
  },
  {
   "cell_type": "code",
   "execution_count": 88,
   "metadata": {},
   "outputs": [
    {
     "name": "stdout",
     "output_type": "stream",
     "text": [
      "Please enter an integer: tyer\n",
      "except block: Looks like you did not enter an integer!\n",
      "Inside Finally block!\n"
     ]
    }
   ],
   "source": [
    "def askint():\n",
    "    try:\n",
    "        val = int(input(\"Please enter an integer: \"))\n",
    "        print(\"Inside try block\")\n",
    "    except:\n",
    "        print(\"except block: Looks like you did not enter an integer!\")\n",
    "\n",
    "    finally:\n",
    "        print(\"Inside Finally block!\")\n",
    "#    print(val)\n",
    "\n",
    "\n",
    "askint()\n"
   ]
  },
  {
   "cell_type": "code",
   "execution_count": 89,
   "metadata": {},
   "outputs": [
    {
     "name": "stdout",
     "output_type": "stream",
     "text": [
      "Please enter an integer: 3e4rrv444\n",
      "Except block - Looks like you did not enter an integer!\n",
      "Try again-Please enter an integer: 3434\n",
      "Finally, I executed!\n",
      "3434\n"
     ]
    }
   ],
   "source": [
    "def askint():\n",
    "    try:\n",
    "        val = int(input(\"Please enter an integer: \"))\n",
    "    except:\n",
    "        print(\"Except block - Looks like you did not enter an integer!\")\n",
    "        val = int(input(\"Try again-Please enter an integer: \"))\n",
    "    finally:\n",
    "        print(\"Finally, I executed!\")\n",
    "    print(val)\n",
    "    \n",
    "askint()"
   ]
  },
  {
   "cell_type": "code",
   "execution_count": 90,
   "metadata": {},
   "outputs": [
    {
     "name": "stdout",
     "output_type": "stream",
     "text": [
      "Please enter an integer: 5454\n",
      "seems liike correct entry...5454\n",
      "Finally, I executed!\n",
      "5454\n"
     ]
    }
   ],
   "source": [
    "def askint():\n",
    "    try:\n",
    "        val = int(input(\"Please enter an integer: \"))\n",
    "    except:\n",
    "        print(\"Except block - Looks like you did not enter an integer!\")\n",
    "    else:\n",
    "        print(f'seems liike correct entry...{val}')\n",
    "    finally:\n",
    "        print(\"Finally, I executed!\")\n",
    "    print(val)\n",
    "    \n",
    "askint()"
   ]
  },
  {
   "cell_type": "code",
   "execution_count": 91,
   "metadata": {},
   "outputs": [
    {
     "name": "stdout",
     "output_type": "stream",
     "text": [
      "Please enter an integer: 4545aa\n",
      "Except block - Looks like you did not enter an integer!\n",
      "Finally, I executed!\n"
     ]
    },
    {
     "ename": "UnboundLocalError",
     "evalue": "local variable 'val' referenced before assignment",
     "output_type": "error",
     "traceback": [
      "\u001b[1;31m---------------------------------------------------------------------------\u001b[0m",
      "\u001b[1;31mUnboundLocalError\u001b[0m                         Traceback (most recent call last)",
      "\u001b[1;32m<ipython-input-91-0ba2044d0422>\u001b[0m in \u001b[0;36m<module>\u001b[1;34m\u001b[0m\n\u001b[0;32m     10\u001b[0m     \u001b[0mprint\u001b[0m\u001b[1;33m(\u001b[0m\u001b[0mval\u001b[0m\u001b[1;33m)\u001b[0m\u001b[1;33m\u001b[0m\u001b[1;33m\u001b[0m\u001b[0m\n\u001b[0;32m     11\u001b[0m \u001b[1;33m\u001b[0m\u001b[0m\n\u001b[1;32m---> 12\u001b[1;33m \u001b[0maskint\u001b[0m\u001b[1;33m(\u001b[0m\u001b[1;33m)\u001b[0m\u001b[1;33m\u001b[0m\u001b[1;33m\u001b[0m\u001b[0m\n\u001b[0m",
      "\u001b[1;32m<ipython-input-91-0ba2044d0422>\u001b[0m in \u001b[0;36maskint\u001b[1;34m()\u001b[0m\n\u001b[0;32m      8\u001b[0m     \u001b[1;32mfinally\u001b[0m\u001b[1;33m:\u001b[0m\u001b[1;33m\u001b[0m\u001b[1;33m\u001b[0m\u001b[0m\n\u001b[0;32m      9\u001b[0m         \u001b[0mprint\u001b[0m\u001b[1;33m(\u001b[0m\u001b[1;34m\"Finally, I executed!\"\u001b[0m\u001b[1;33m)\u001b[0m\u001b[1;33m\u001b[0m\u001b[1;33m\u001b[0m\u001b[0m\n\u001b[1;32m---> 10\u001b[1;33m     \u001b[0mprint\u001b[0m\u001b[1;33m(\u001b[0m\u001b[0mval\u001b[0m\u001b[1;33m)\u001b[0m\u001b[1;33m\u001b[0m\u001b[1;33m\u001b[0m\u001b[0m\n\u001b[0m\u001b[0;32m     11\u001b[0m \u001b[1;33m\u001b[0m\u001b[0m\n\u001b[0;32m     12\u001b[0m \u001b[0maskint\u001b[0m\u001b[1;33m(\u001b[0m\u001b[1;33m)\u001b[0m\u001b[1;33m\u001b[0m\u001b[1;33m\u001b[0m\u001b[0m\n",
      "\u001b[1;31mUnboundLocalError\u001b[0m: local variable 'val' referenced before assignment"
     ]
    }
   ],
   "source": [
    "def askint():\n",
    "    try:\n",
    "        val = int(input(\"Please enter an integer: \"))\n",
    "    except:\n",
    "        print(\"Except block - Looks like you did not enter an integer!\")\n",
    "    else:\n",
    "        print(f'seems liike correct entry...{val}')\n",
    "    finally:\n",
    "        print(\"Finally, I executed!\")\n",
    "    print(val)\n",
    "    \n",
    "askint()"
   ]
  },
  {
   "cell_type": "code",
   "execution_count": 92,
   "metadata": {},
   "outputs": [
    {
     "name": "stdout",
     "output_type": "stream",
     "text": [
      "Please enter an integer: 9090aa\n",
      "Except block - Looks like you did not enter an integer!\n",
      "Finally, I executed!\n"
     ]
    }
   ],
   "source": [
    "def askint():\n",
    "    try:\n",
    "        val = int(input(\"Please enter an integer: \"))\n",
    "    except:\n",
    "        print(\"Except block - Looks like you did not enter an integer!\")\n",
    "    else:\n",
    "        print(f'seems liike correct entry...{val}')\n",
    "    finally:\n",
    "        print(\"Finally, I executed!\")\n",
    "#     print(val)\n",
    "    \n",
    "askint()"
   ]
  },
  {
   "cell_type": "code",
   "execution_count": 1,
   "metadata": {},
   "outputs": [
    {
     "name": "stdout",
     "output_type": "stream",
     "text": [
      "Please enter an integer: yy66\n",
      "Except block - Looks like you did not enter an integer!\n",
      "Finally, I executed!\n",
      "Please enter an integer: 555\n",
      "seems liike correct entry...555\n",
      "Finally, I executed!\n"
     ]
    }
   ],
   "source": [
    "def askint():\n",
    "    while True:\n",
    "        try:\n",
    "            val = int(input(\"Please enter an integer: \"))\n",
    "        except:\n",
    "            print(\"Except block - Looks like you did not enter an integer!\")\n",
    "        else:\n",
    "            print(f'seems liike correct entry...{val}')\n",
    "            break\n",
    "        finally:\n",
    "            print(\"Finally, I executed!\")\n",
    "#             print(val)\n",
    "\n",
    "askint()"
   ]
  },
  {
   "cell_type": "code",
   "execution_count": 2,
   "metadata": {},
   "outputs": [
    {
     "name": "stdout",
     "output_type": "stream",
     "text": [
      "Please enter an integer: huyvyuvu\n",
      "Except block - Val is not an integer!\n",
      "Please enter an integer: vu uvvu\n",
      "Except block - Val is not an integer!\n",
      "Please enter an integer: 88877878yyugu\n",
      "Except block - Val is not an integer!\n",
      "Please enter an integer: 777790\n",
      "seems liike correct entry...777790\n"
     ]
    }
   ],
   "source": [
    "def askint():\n",
    "    while True:\n",
    "        try:\n",
    "            val = int(input(\"Please enter an integer: \"))\n",
    "        except:\n",
    "            print(\"Except block - Val is not an integer!\")\n",
    "            continue\n",
    "        else:\n",
    "            print(f'seems liike correct entry...{val}')\n",
    "            break\n",
    "\n",
    "\n",
    "askint()"
   ]
  },
  {
   "cell_type": "code",
   "execution_count": null,
   "metadata": {},
   "outputs": [],
   "source": []
  }
 ],
 "metadata": {
  "kernelspec": {
   "display_name": "Python 3",
   "language": "python",
   "name": "python3"
  },
  "language_info": {
   "codemirror_mode": {
    "name": "ipython",
    "version": 3
   },
   "file_extension": ".py",
   "mimetype": "text/x-python",
   "name": "python",
   "nbconvert_exporter": "python",
   "pygments_lexer": "ipython3",
   "version": "3.8.5"
  }
 },
 "nbformat": 4,
 "nbformat_minor": 4
}
