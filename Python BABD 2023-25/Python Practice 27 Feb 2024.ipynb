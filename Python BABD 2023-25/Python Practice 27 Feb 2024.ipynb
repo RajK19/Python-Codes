{
 "cells": [
  {
   "cell_type": "code",
   "execution_count": 1,
   "metadata": {},
   "outputs": [],
   "source": [
    "my_quote2 = ['Nothing','is','impossible']"
   ]
  },
  {
   "cell_type": "code",
   "execution_count": 4,
   "metadata": {},
   "outputs": [],
   "source": [
    "my_dict1 = {item:item for item in my_quote2}"
   ]
  },
  {
   "cell_type": "code",
   "execution_count": 5,
   "metadata": {},
   "outputs": [
    {
     "data": {
      "text/plain": [
       "{'Nothing': 'Nothing', 'is': 'is', 'impossible': 'impossible'}"
      ]
     },
     "execution_count": 5,
     "metadata": {},
     "output_type": "execute_result"
    }
   ],
   "source": [
    "my_dict1"
   ]
  },
  {
   "cell_type": "code",
   "execution_count": 6,
   "metadata": {},
   "outputs": [
    {
     "name": "stdout",
     "output_type": "stream",
     "text": [
      "['Nothing', 'is', 'impossible']\n"
     ]
    }
   ],
   "source": [
    "print(my_quote2)"
   ]
  },
  {
   "cell_type": "code",
   "execution_count": 13,
   "metadata": {},
   "outputs": [],
   "source": [
    "dict2 = {'Hi ' + item:len(item) for item in my_dict1.keys()}"
   ]
  },
  {
   "cell_type": "code",
   "execution_count": 14,
   "metadata": {},
   "outputs": [
    {
     "data": {
      "text/plain": [
       "{'Hi Nothing': 7, 'Hi is': 2, 'Hi impossible': 10}"
      ]
     },
     "execution_count": 14,
     "metadata": {},
     "output_type": "execute_result"
    }
   ],
   "source": [
    "dict2"
   ]
  },
  {
   "cell_type": "code",
   "execution_count": 16,
   "metadata": {},
   "outputs": [
    {
     "name": "stdout",
     "output_type": "stream",
     "text": [
      "Quotation: Nothing is impossible\n",
      "['Nothing', 'is', 'impossible']\n",
      "{'Hi Nothing': 7, 'Hi is': 2, 'Hi impossible': 10}\n"
     ]
    }
   ],
   "source": [
    "##### Sir's code\n",
    "\n",
    "str1 = input('Quotation: ')\n",
    "\n",
    "my_quote2 = str1.split(\" \")\n",
    "\n",
    "my_dict1 = {'Hi ' + item: len(item) for item in my_quote2}\n",
    "\n",
    "print(my_quote2)\n",
    "print(my_dict1)"
   ]
  },
  {
   "cell_type": "markdown",
   "metadata": {},
   "source": [
    "### Types of loops\n",
    "\n",
    "> Loops <br>\n",
    "> Conditions\n",
    "\n",
    "- While\n",
    "- For "
   ]
  },
  {
   "cell_type": "code",
   "execution_count": null,
   "metadata": {},
   "outputs": [],
   "source": []
  }
 ],
 "metadata": {
  "kernelspec": {
   "display_name": "Python 3",
   "language": "python",
   "name": "python3"
  },
  "language_info": {
   "codemirror_mode": {
    "name": "ipython",
    "version": 3
   },
   "file_extension": ".py",
   "mimetype": "text/x-python",
   "name": "python",
   "nbconvert_exporter": "python",
   "pygments_lexer": "ipython3",
   "version": "3.8.5"
  }
 },
 "nbformat": 4,
 "nbformat_minor": 4
}
