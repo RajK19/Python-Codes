{
 "cells": [
  {
   "cell_type": "markdown",
   "metadata": {},
   "source": [
    "## Enumerate"
   ]
  },
  {
   "cell_type": "code",
   "execution_count": 2,
   "metadata": {},
   "outputs": [
    {
     "name": "stdout",
     "output_type": "stream",
     "text": [
      "aeiou\n"
     ]
    }
   ],
   "source": [
    "str1 = 'aeiou'\n",
    "\n",
    "count = 0\n",
    "\n",
    "for i in range(1):\n",
    "    print(str1)"
   ]
  },
  {
   "cell_type": "code",
   "execution_count": 4,
   "metadata": {},
   "outputs": [
    {
     "name": "stdout",
     "output_type": "stream",
     "text": [
      "a is at location 1\n",
      "e is at location 2\n",
      "i is at location 3\n",
      "o is at location 4\n",
      "u is at location 5\n"
     ]
    }
   ],
   "source": [
    "count = 0\n",
    "value = 1\n",
    "\n",
    "for i in str1:\n",
    "    print(f'{str1[count]} is at location {value}')\n",
    "    count+= 1\n",
    "    value+= 1"
   ]
  },
  {
   "cell_type": "code",
   "execution_count": 5,
   "metadata": {},
   "outputs": [
    {
     "name": "stdout",
     "output_type": "stream",
     "text": [
      "a is a loc 1\n",
      "e is a loc 2\n",
      "i is a loc 3\n",
      "o is a loc 4\n",
      "u is a loc 5\n"
     ]
    }
   ],
   "source": [
    "## alternative\n",
    "\n",
    "str1 = 'aeiou'\n",
    "\n",
    "counter = 0\n",
    "for char in str1:\n",
    "    counter += 1\n",
    "    print(f'{char} is a loc {counter}')"
   ]
  },
  {
   "cell_type": "code",
   "execution_count": 17,
   "metadata": {},
   "outputs": [
    {
     "name": "stdout",
     "output_type": "stream",
     "text": [
      "a is at location 1\n",
      "i is at location 3\n",
      "u is at location 5\n"
     ]
    }
   ],
   "source": [
    "str1 = 'aeiou'\n",
    "\n",
    "count = 0\n",
    "value = 1\n",
    "\n",
    "for i in str1:\n",
    "    if count%2 == 0:\n",
    "        print(f'{str1[count]} is at location {value}')\n",
    "    count+= 1\n",
    "    value+= 1\n",
    " "
   ]
  },
  {
   "cell_type": "code",
   "execution_count": 12,
   "metadata": {},
   "outputs": [
    {
     "data": {
      "text/plain": [
       "'aeiou'"
      ]
     },
     "execution_count": 12,
     "metadata": {},
     "output_type": "execute_result"
    }
   ],
   "source": [
    "str1"
   ]
  },
  {
   "cell_type": "code",
   "execution_count": 13,
   "metadata": {},
   "outputs": [
    {
     "data": {
      "text/plain": [
       "5"
      ]
     },
     "execution_count": 13,
     "metadata": {},
     "output_type": "execute_result"
    }
   ],
   "source": [
    "len(str1)"
   ]
  },
  {
   "cell_type": "code",
   "execution_count": 14,
   "metadata": {},
   "outputs": [
    {
     "data": {
      "text/plain": [
       "1"
      ]
     },
     "execution_count": 14,
     "metadata": {},
     "output_type": "execute_result"
    }
   ],
   "source": []
  },
  {
   "cell_type": "code",
   "execution_count": 18,
   "metadata": {},
   "outputs": [
    {
     "name": "stdout",
     "output_type": "stream",
     "text": [
      "a is at location 1\n",
      "e is at location 2\n",
      "o is at location 4\n"
     ]
    }
   ],
   "source": [
    "str1 = 'aeiou'\n",
    "\n",
    "count = 0\n",
    "value = 1\n",
    "\n",
    "for i in str1:\n",
    "    if i in 'aeo':\n",
    "        print(f'{str1[count]} is at location {value}')\n",
    "    count+= 1\n",
    "    value+= 1\n",
    " "
   ]
  },
  {
   "cell_type": "code",
   "execution_count": 19,
   "metadata": {},
   "outputs": [
    {
     "name": "stdout",
     "output_type": "stream",
     "text": [
      "i is at location 3\n",
      "u is at location 5\n"
     ]
    }
   ],
   "source": [
    "str1 = 'aeiou'\n",
    "\n",
    "count = 0\n",
    "value = 1\n",
    "\n",
    "for i in str1:\n",
    "    if i not in 'aeo':\n",
    "        print(f'{str1[count]} is at location {value}')\n",
    "    count+= 1\n",
    "    value+= 1\n",
    " "
   ]
  },
  {
   "cell_type": "code",
   "execution_count": 20,
   "metadata": {},
   "outputs": [
    {
     "name": "stdout",
     "output_type": "stream",
     "text": [
      "a is at location 1\n",
      "e is at location 2\n",
      "o is at location 4\n"
     ]
    }
   ],
   "source": [
    "str1 = 'aeiou'\n",
    "\n",
    "count = 0\n",
    "value = 1\n",
    "\n",
    "for i in str1:\n",
    "    if i not in 'iu':\n",
    "        print(f'{str1[count]} is at location {value}')\n",
    "    count+= 1\n",
    "    value+= 1\n",
    " "
   ]
  },
  {
   "cell_type": "code",
   "execution_count": 21,
   "metadata": {},
   "outputs": [
    {
     "name": "stdout",
     "output_type": "stream",
     "text": [
      "a is a loc 1\n",
      "e is a loc 2\n",
      "o is a loc 4\n"
     ]
    }
   ],
   "source": [
    "str1 = 'aeiou'\n",
    "counter = 0\n",
    "\n",
    "for char in str1:\n",
    "    counter+=1\n",
    "    if char in 'aeo':\n",
    "        print(f'{char} is a loc {counter}')"
   ]
  },
  {
   "cell_type": "code",
   "execution_count": 24,
   "metadata": {},
   "outputs": [
    {
     "name": "stdout",
     "output_type": "stream",
     "text": [
      "a is at location 1\n",
      "e is at location 2\n",
      "o is at location 4\n"
     ]
    }
   ],
   "source": [
    "str1 = 'aeiou'\n",
    "\n",
    "count = 0\n",
    "value = 1\n",
    "\n",
    "for i in str1:\n",
    "    if i not in 'iu':\n",
    "        print(f'{i} is at location {value}')\n",
    "    count+= 1\n",
    "    value+= 1"
   ]
  },
  {
   "cell_type": "code",
   "execution_count": 25,
   "metadata": {},
   "outputs": [
    {
     "name": "stdout",
     "output_type": "stream",
     "text": [
      "a is a loc 1\n",
      "e is a loc 2\n",
      "o is a loc 4\n"
     ]
    }
   ],
   "source": [
    "str1 = 'aeiou'\n",
    "\n",
    "counter = 0\n",
    "for char in str1:\n",
    "    counter+=1\n",
    "    if char in 'iu':\n",
    "        continue\n",
    "    \n",
    "    print(f'{char} is a loc {counter}')"
   ]
  },
  {
   "cell_type": "code",
   "execution_count": 29,
   "metadata": {},
   "outputs": [
    {
     "name": "stdout",
     "output_type": "stream",
     "text": [
      "[(0, 'a'), (1, 'e'), (2, 'i'), (3, 'o'), (4, 'u')]\n",
      "[(0, -1), (1, 100), (2, 99), (3, 77), (4, 66), (5, 'AA')]\n"
     ]
    }
   ],
   "source": [
    "str1 = 'aeiou'\n",
    "\n",
    "list1 = [-1,100,99,77,66,'AA']\n",
    "\n",
    "print(list(enumerate(str1)))\n",
    "print(list(enumerate(list1)))"
   ]
  },
  {
   "cell_type": "code",
   "execution_count": 33,
   "metadata": {},
   "outputs": [
    {
     "data": {
      "text/plain": [
       "<enumerate at 0x1bd2afde840>"
      ]
     },
     "execution_count": 33,
     "metadata": {},
     "output_type": "execute_result"
    }
   ],
   "source": [
    "enumerate(str1)"
   ]
  },
  {
   "cell_type": "code",
   "execution_count": 31,
   "metadata": {},
   "outputs": [
    {
     "data": {
      "text/plain": [
       "<enumerate at 0x1bd2afdbf80>"
      ]
     },
     "execution_count": 31,
     "metadata": {},
     "output_type": "execute_result"
    }
   ],
   "source": [
    "enumerate(list1)"
   ]
  },
  {
   "cell_type": "code",
   "execution_count": 36,
   "metadata": {},
   "outputs": [
    {
     "name": "stdout",
     "output_type": "stream",
     "text": [
      "a is at loc 0\n",
      "e is at loc 1\n",
      "i is at loc 2\n",
      "o is at loc 3\n",
      "u is at loc 4\n"
     ]
    }
   ],
   "source": [
    "counter = 0\n",
    "\n",
    "str1 = 'aeiou'\n",
    "\n",
    "for counter, chr in enumerate(str1):\n",
    "    print(f'{chr} is at loc {counter}')"
   ]
  },
  {
   "cell_type": "code",
   "execution_count": 38,
   "metadata": {},
   "outputs": [
    {
     "name": "stdout",
     "output_type": "stream",
     "text": [
      "a\n",
      "<enumerate object at 0x000001BD2AFE4B00>\n",
      "aeiou\n",
      "e\n",
      "<enumerate object at 0x000001BD2AFE4B00>\n",
      "aeiou\n",
      "i\n",
      "<enumerate object at 0x000001BD2AFE4B00>\n",
      "aeiou\n",
      "o\n",
      "<enumerate object at 0x000001BD2AFE6500>\n",
      "aeiou\n",
      "u\n",
      "<enumerate object at 0x000001BD2AFE6500>\n",
      "aeiou\n"
     ]
    }
   ],
   "source": [
    "counter = 0\n",
    "\n",
    "str1 = 'aeiou'\n",
    "\n",
    "\n",
    "for counter, chr in enumerate(str1):\n",
    "    print(chr)\n",
    "    print(enumerate(str1))\n",
    "    print(str1)\n",
    "    #print(f'{chr} is at loc {counter}')"
   ]
  },
  {
   "cell_type": "markdown",
   "metadata": {},
   "source": [
    "## Using zip function"
   ]
  },
  {
   "cell_type": "code",
   "execution_count": 39,
   "metadata": {},
   "outputs": [],
   "source": [
    "l1 = ['Amit','Ankush','Anny']"
   ]
  },
  {
   "cell_type": "code",
   "execution_count": 40,
   "metadata": {},
   "outputs": [],
   "source": [
    "l2 = ['India','Ireland','UK']"
   ]
  },
  {
   "cell_type": "code",
   "execution_count": 41,
   "metadata": {},
   "outputs": [],
   "source": [
    "l3 = [22,32,42]"
   ]
  },
  {
   "cell_type": "code",
   "execution_count": 42,
   "metadata": {},
   "outputs": [
    {
     "name": "stdout",
     "output_type": "stream",
     "text": [
      "[('Amit', 'India', 22), ('Ankush', 'Ireland', 32), ('Anny', 'UK', 42)]\n"
     ]
    }
   ],
   "source": [
    "print(list(zip(l1,l2,l3)))"
   ]
  },
  {
   "cell_type": "code",
   "execution_count": 44,
   "metadata": {},
   "outputs": [
    {
     "data": {
      "text/plain": [
       "[('Amit', 'India', 22), ('Ankush', 'Ireland', 32), ('Anny', 'UK', 42)]"
      ]
     },
     "execution_count": 44,
     "metadata": {},
     "output_type": "execute_result"
    }
   ],
   "source": [
    "list(zip(l1,l2,l3))"
   ]
  },
  {
   "cell_type": "code",
   "execution_count": 50,
   "metadata": {},
   "outputs": [
    {
     "name": "stdout",
     "output_type": "stream",
     "text": [
      "[('Amit', 'India', 22), ('Anuksh', 'Ireland', 32), ('Anny', 'UK', 42)]\n"
     ]
    }
   ],
   "source": [
    "## Using zip function\n",
    "\n",
    "s1 = ['Amit','Anuksh','Anny']\n",
    "s2 = ['India','Ireland','UK']\n",
    "s3 = [22,32,42]\n",
    "\n",
    "z1 = zip(s1,s2,s3)\n",
    "\n",
    "print(list(z1))\n",
    "\n"
   ]
  },
  {
   "cell_type": "code",
   "execution_count": 60,
   "metadata": {},
   "outputs": [
    {
     "name": "stdout",
     "output_type": "stream",
     "text": [
      "[('Amit', 'India', 22), ('Anuksh', 'Ireland', 32), ('Anny', 'UK', 42)]\n",
      "Hello\n",
      "()\n"
     ]
    }
   ],
   "source": [
    "z1 = zip(s1,s2,s3)\n",
    "print(list(z1))\n",
    "\n",
    "print(\"Hello\")\n",
    "\n",
    "print(tuple(z1))\n",
    "for item in z1:\n",
    "    print(item)"
   ]
  },
  {
   "cell_type": "code",
   "execution_count": 59,
   "metadata": {},
   "outputs": [
    {
     "name": "stdout",
     "output_type": "stream",
     "text": [
      "[]\n"
     ]
    }
   ],
   "source": [
    "print(list(z1))"
   ]
  },
  {
   "cell_type": "code",
   "execution_count": 55,
   "metadata": {},
   "outputs": [
    {
     "name": "stdout",
     "output_type": "stream",
     "text": [
      "['Amit', 'Anuksh', 'Anny']\n"
     ]
    }
   ],
   "source": [
    "print(s1)"
   ]
  },
  {
   "cell_type": "code",
   "execution_count": 71,
   "metadata": {},
   "outputs": [
    {
     "name": "stdout",
     "output_type": "stream",
     "text": [
      "['Amit', 'Ankush', 'Anny']\n",
      "['India', 'Ireland', 'UK']\n",
      "[22, 23, 24]\n"
     ]
    }
   ],
   "source": [
    "l1 = ['Amit','Ankush','Anny']\n",
    "l2 = ['India','Ireland','UK']\n",
    "l3 = [22,23,24]\n",
    "\n",
    "names = []\n",
    "age = []\n",
    "country = []\n",
    "\n",
    "z1 = zip(l1,l2,l3)\n",
    "\n",
    "for i1,i2,i3 in z1:\n",
    "    names.append(i1)\n",
    "    country.append(i2)\n",
    "    age.append(i3)\n",
    "    \n",
    "print(names)\n",
    "print(country)\n",
    "print(age)"
   ]
  },
  {
   "cell_type": "code",
   "execution_count": 62,
   "metadata": {},
   "outputs": [
    {
     "data": {
      "text/plain": [
       "0.976340505124472"
      ]
     },
     "execution_count": 62,
     "metadata": {},
     "output_type": "execute_result"
    }
   ],
   "source": [
    "import random\n",
    "random.random()  #between 0 and 1"
   ]
  },
  {
   "cell_type": "code",
   "execution_count": 63,
   "metadata": {},
   "outputs": [
    {
     "data": {
      "text/plain": [
       "82"
      ]
     },
     "execution_count": 63,
     "metadata": {},
     "output_type": "execute_result"
    }
   ],
   "source": [
    "random.randint(0,99)  #random number between start and end"
   ]
  },
  {
   "cell_type": "code",
   "execution_count": 80,
   "metadata": {},
   "outputs": [
    {
     "name": "stdout",
     "output_type": "stream",
     "text": [
      "[-99, 'BBCCC', 99, 'A', 0]\n"
     ]
    }
   ],
   "source": [
    "l1 = ['A','BB''CCC',-99,99,0]\n",
    "      \n",
    "random.shuffle(l1)\n",
    "print(l1)"
   ]
  },
  {
   "cell_type": "code",
   "execution_count": 81,
   "metadata": {},
   "outputs": [
    {
     "data": {
      "text/plain": [
       "'A'"
      ]
     },
     "execution_count": 81,
     "metadata": {},
     "output_type": "execute_result"
    }
   ],
   "source": [
    "random.choice(l1)   #Chooses a random item from an iterator"
   ]
  },
  {
   "cell_type": "code",
   "execution_count": 82,
   "metadata": {},
   "outputs": [
    {
     "data": {
      "text/plain": [
       "0"
      ]
     },
     "execution_count": 82,
     "metadata": {},
     "output_type": "execute_result"
    }
   ],
   "source": [
    "random.seed(10)\n",
    "random.choice(l1)  #chooses a random item from an iterator"
   ]
  },
  {
   "cell_type": "code",
   "execution_count": 83,
   "metadata": {},
   "outputs": [
    {
     "name": "stdout",
     "output_type": "stream",
     "text": [
      "[-99, 'BBCCC', 99, 'A', 0]\n",
      "[-99, 'A', 'BBCCC']\n"
     ]
    }
   ],
   "source": [
    "print(l1)\n",
    "print(random.sample(l1,k=3))"
   ]
  },
  {
   "cell_type": "code",
   "execution_count": 3,
   "metadata": {},
   "outputs": [
    {
     "name": "stdout",
     "output_type": "stream",
     "text": [
      "Help on method sample in module random:\n",
      "\n",
      "sample(population, k) method of random.Random instance\n",
      "    Chooses k unique random elements from a population sequence or set.\n",
      "    \n",
      "    Returns a new list containing elements from the population while\n",
      "    leaving the original population unchanged.  The resulting list is\n",
      "    in selection order so that all sub-slices will also be valid random\n",
      "    samples.  This allows raffle winners (the sample) to be partitioned\n",
      "    into grand prize and second place winners (the subslices).\n",
      "    \n",
      "    Members of the population need not be hashable or unique.  If the\n",
      "    population contains repeats, then each occurrence is a possible\n",
      "    selection in the sample.\n",
      "    \n",
      "    To choose a sample in a range of integers, use range as an argument.\n",
      "    This is especially fast and space efficient for sampling from a\n",
      "    large population:   sample(range(10000000), 60)\n",
      "\n"
     ]
    }
   ],
   "source": [
    "import random\n",
    "\n",
    "l1 = ['red','green','blue']\n",
    "\n",
    "#print(random.sample(l1, counts = [2,3,4], k =6))\n",
    "\n",
    "help(random.sample)"
   ]
  },
  {
   "cell_type": "code",
   "execution_count": 5,
   "metadata": {},
   "outputs": [
    {
     "ename": "TypeError",
     "evalue": "sample() got an unexpected keyword argument 'counts'",
     "output_type": "error",
     "traceback": [
      "\u001b[1;31m---------------------------------------------------------------------------\u001b[0m",
      "\u001b[1;31mTypeError\u001b[0m                                 Traceback (most recent call last)",
      "\u001b[1;32m<ipython-input-5-40e5539a3f91>\u001b[0m in \u001b[0;36m<module>\u001b[1;34m\u001b[0m\n\u001b[0;32m      3\u001b[0m \u001b[0ml1\u001b[0m \u001b[1;33m=\u001b[0m \u001b[1;33m[\u001b[0m\u001b[1;34m'red'\u001b[0m\u001b[1;33m,\u001b[0m\u001b[1;34m'green'\u001b[0m\u001b[1;33m,\u001b[0m\u001b[1;34m'blue'\u001b[0m\u001b[1;33m]\u001b[0m\u001b[1;33m\u001b[0m\u001b[1;33m\u001b[0m\u001b[0m\n\u001b[0;32m      4\u001b[0m \u001b[1;33m\u001b[0m\u001b[0m\n\u001b[1;32m----> 5\u001b[1;33m \u001b[0mprint\u001b[0m\u001b[1;33m(\u001b[0m\u001b[0mrandom\u001b[0m\u001b[1;33m.\u001b[0m\u001b[0msample\u001b[0m\u001b[1;33m(\u001b[0m\u001b[0ml1\u001b[0m\u001b[1;33m,\u001b[0m \u001b[0mcounts\u001b[0m \u001b[1;33m=\u001b[0m \u001b[1;33m[\u001b[0m\u001b[1;36m2\u001b[0m\u001b[1;33m,\u001b[0m\u001b[1;36m3\u001b[0m\u001b[1;33m,\u001b[0m\u001b[1;36m4\u001b[0m\u001b[1;33m]\u001b[0m\u001b[1;33m,\u001b[0m \u001b[0mk\u001b[0m \u001b[1;33m=\u001b[0m\u001b[1;36m6\u001b[0m\u001b[1;33m)\u001b[0m\u001b[1;33m)\u001b[0m\u001b[1;33m\u001b[0m\u001b[1;33m\u001b[0m\u001b[0m\n\u001b[0m\u001b[0;32m      6\u001b[0m \u001b[1;33m\u001b[0m\u001b[0m\n\u001b[0;32m      7\u001b[0m \u001b[0mhelp\u001b[0m\u001b[1;33m(\u001b[0m\u001b[0mrandom\u001b[0m\u001b[1;33m.\u001b[0m\u001b[0msample\u001b[0m\u001b[1;33m)\u001b[0m\u001b[1;33m\u001b[0m\u001b[1;33m\u001b[0m\u001b[0m\n",
      "\u001b[1;31mTypeError\u001b[0m: sample() got an unexpected keyword argument 'counts'"
     ]
    }
   ],
   "source": [
    "import random\n",
    "\n",
    "l1 = ['red','green','blue']\n",
    "\n",
    "print(random.sample(l1, counts = [2,3,4], k =6))\n",
    "\n",
    "help(random.sample)"
   ]
  },
  {
   "cell_type": "code",
   "execution_count": null,
   "metadata": {},
   "outputs": [],
   "source": []
  }
 ],
 "metadata": {
  "kernelspec": {
   "display_name": "Python 3",
   "language": "python",
   "name": "python3"
  },
  "language_info": {
   "codemirror_mode": {
    "name": "ipython",
    "version": 3
   },
   "file_extension": ".py",
   "mimetype": "text/x-python",
   "name": "python",
   "nbconvert_exporter": "python",
   "pygments_lexer": "ipython3",
   "version": "3.8.5"
  }
 },
 "nbformat": 4,
 "nbformat_minor": 4
}
