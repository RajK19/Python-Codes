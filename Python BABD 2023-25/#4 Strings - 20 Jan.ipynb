{
 "cells": [
  {
   "cell_type": "code",
   "execution_count": 1,
   "metadata": {},
   "outputs": [
    {
     "name": "stdout",
     "output_type": "stream",
     "text": [
      "Help on built-in function print in module builtins:\n",
      "\n",
      "print(...)\n",
      "    print(value, ..., sep=' ', end='\\n', file=sys.stdout, flush=False)\n",
      "    \n",
      "    Prints the values to a stream, or to sys.stdout by default.\n",
      "    Optional keyword arguments:\n",
      "    file:  a file-like object (stream); defaults to the current sys.stdout.\n",
      "    sep:   string inserted between values, default a space.\n",
      "    end:   string appended after the last value, default a newline.\n",
      "    flush: whether to forcibly flush the stream.\n",
      "\n"
     ]
    }
   ],
   "source": [
    "help(print)"
   ]
  },
  {
   "cell_type": "markdown",
   "metadata": {},
   "source": [
    "# Welcome to CLO1 - Understanding the Python Basics [CLASS SESSION]\n",
    "\n",
    "## Key Topics:\n",
    "\n",
    "### 1. Numbers and Variables Assignment\n",
    "### 2. Strings and Print Formatting  <=\n",
    "### 3. Lists\n",
    "### 4. Dictionaries\n",
    "### 5. Tuples, Sets & Booleans\n",
    "### 6. Files\n",
    "\n",
    "Name  |  Type  |  Description\n",
    ":---------:|:------:|:--------------------|\n",
    "Integers|int|Whole numbers like -10, 0, 20, 999\n",
    "Floating point\t|float| Numbers having decimal point like -3.3, 9.99, 9e7\n",
    "Strings\t|str|\tOrdered sequence of characters like  \"BABD\"   'Analytics'   \"$199.99\" \n",
    "Lists\t|list|\tOrdered Mutable sequence of objects in square brackets like   [10,\"hello\",200.3]\n",
    "Dictionaries\t|dict|\tUnordered & Mutable Key:Value pairs in curly brackets :  {\"mykey\" : \"value\" , \"name\" : \"Frankie\"}\n",
    "Tuples\t|tup|\tOrdered Immutable sequence of objects in round brackets like (10,\"hello\",200.3)\n",
    "Sets\t|set|\tUnordered collection of unique objects (No Duplicates) like  {\"a\",\"b\"}\n",
    "Booleans\t|bool|\tLogical value indicating True or False\n"
   ]
  },
  {
   "cell_type": "markdown",
   "metadata": {},
   "source": [
    "## Topic 2: Strings and Print Formatting\n",
    "\n",
    "- String is actually a Sequence in Python. For example, String \"BABD\" is a sequence of 4 characters/ letters. Python keeps track of every element in a Sequence and thereby it can be accessed via indexing or slicing as well\n",
    "    * 1) Strings - Create and Print and Calculate Length\n",
    "    * 2) Strings - Indexing and Slicing\n",
    "    * 3) Srings - Properties\n",
    "    * 4) Strings - Methods\n",
    "    * 5) Formatting Strings"
   ]
  },
  {
   "cell_type": "code",
   "execution_count": 11,
   "metadata": {},
   "outputs": [
    {
     "name": "stdout",
     "output_type": "stream",
     "text": [
      "Simple String:  Python\n",
      "Multi-phrase String Learning Python in APP class\n",
      "Double and Single Quotes can be used to create Strings: & I'm going there \n"
     ]
    }
   ],
   "source": [
    "### 1) Strings - Create and Print  and Calculate Length\n",
    "\n",
    "#Displaying Strings\n",
    "# Simple String:  Python\n",
    "# Multi-phrase String Learning Python in APP class\n",
    "# Double and Single Quotes can be used to create Strings:  & I'm going there   #Print statement going over 2 lines\n",
    "# I'm going there !!\n",
    "\n",
    "print(\"Simple String:  Python\")\n",
    "\n",
    "print(\"Multi-phrase String Learning Python in APP class\")\n",
    "\n",
    "print(\"Double and Single Quotes can be used to create Strings: \\\n",
    "& I'm going there \")\n",
    "\n",
    "#\\ is used to connect two strings together while typing in a print statement\n",
    "\n",
    "#ENTER CODE HERE\n",
    "\n",
    "#print('I'm going there !!')  #SyntaxError, if single or double quote used within a string, use different quote around the String"
   ]
  },
  {
   "cell_type": "code",
   "execution_count": 12,
   "metadata": {},
   "outputs": [
    {
     "name": "stdout",
     "output_type": "stream",
     "text": [
      "list1:  [100, 200, 300, 'Hello']\n",
      "tuple1: ('I', 'J', 99)\n",
      "string1: Good Morning\n",
      "\n"
     ]
    }
   ],
   "source": [
    "# STEP 1\n",
    "# =======\n",
    "\n",
    "list1 = [100,200,300, \"Hello\"]\n",
    "tuple1 = (\"I\",\"J\", 99)\n",
    "string1 = \"Good Morning\"\n",
    "\n",
    "#ENTER CODE HERE\n",
    "\n",
    "\n",
    "\n",
    "print(\"list1: \", list1)\n",
    "print(f\"tuple1: {tuple1}\")\n",
    "print(f\"string1: {string1}\")\n"
   ]
  },
  {
   "cell_type": "code",
   "execution_count": 14,
   "metadata": {},
   "outputs": [
    {
     "name": "stdout",
     "output_type": "stream",
     "text": [
      ">>list1: [100, 200, 300, 'Hello'] >>tuple1: ('I', 'J', 99)\n",
      ">>string1: Good Morning\n"
     ]
    }
   ],
   "source": [
    "#printing two obejcts in a single line\n",
    "\n",
    "print(f\">>list1: {list1}\", f\">>tuple1: {tuple1}\")\n",
    "print(f\">>string1: {string1}\")"
   ]
  },
  {
   "cell_type": "code",
   "execution_count": 15,
   "metadata": {},
   "outputs": [
    {
     "name": "stdout",
     "output_type": "stream",
     "text": [
      "[100, 200, 300, 'Hello'] ('I', 'J', 99) Good Morning\n"
     ]
    }
   ],
   "source": [
    "print(list1, tuple1,string1)"
   ]
  },
  {
   "cell_type": "code",
   "execution_count": 16,
   "metadata": {},
   "outputs": [
    {
     "name": "stdout",
     "output_type": "stream",
     "text": [
      "list here [100, 200, 300, 'Hello'] tuple here ('I', 'J', 99) string here Good Morning\n"
     ]
    }
   ],
   "source": [
    "print(\"list here\",list1,\"tuple here\", tuple1,\"string here\" ,string1)"
   ]
  },
  {
   "cell_type": "code",
   "execution_count": 19,
   "metadata": {},
   "outputs": [
    {
     "name": "stdout",
     "output_type": "stream",
     "text": [
      ">>list1: [100, 200, 300, 'Hello']\n",
      ">>tuple1: ('I', 'J', 99)\n",
      ">>string1: Good Morning\n"
     ]
    }
   ],
   "source": [
    "print(f\">>list1: {list1}\", f\">>tuple1: {tuple1}\",f\">>string1: {string1}\", sep = '\\n')\n"
   ]
  },
  {
   "cell_type": "code",
   "execution_count": 24,
   "metadata": {},
   "outputs": [
    {
     "name": "stdout",
     "output_type": "stream",
     "text": [
      "list1: [100, 200, 300, 'Hello'] || tuple1: ('I', 'J', 99)<<..>>string1: Good Morning\n"
     ]
    }
   ],
   "source": [
    "print(f\"list1: {list1}\", f\"tuple1: {tuple1}\", sep = ' || ', end = \"<<..>>\")\n",
    "print(f\"string1: {string1}\")"
   ]
  },
  {
   "cell_type": "code",
   "execution_count": null,
   "metadata": {},
   "outputs": [],
   "source": []
  },
  {
   "cell_type": "markdown",
   "metadata": {},
   "source": [
    "### Step 2\n",
    "### Length of a string"
   ]
  },
  {
   "cell_type": "code",
   "execution_count": 25,
   "metadata": {},
   "outputs": [
    {
     "name": "stdout",
     "output_type": "stream",
     "text": [
      "Help on built-in function len in module builtins:\n",
      "\n",
      "len(obj, /)\n",
      "    Return the number of items in a container.\n",
      "\n"
     ]
    }
   ],
   "source": [
    "help(len)"
   ]
  },
  {
   "cell_type": "code",
   "execution_count": 26,
   "metadata": {},
   "outputs": [
    {
     "name": "stdout",
     "output_type": "stream",
     "text": [
      "'Good Morning' String Len is:  12\n"
     ]
    }
   ],
   "source": [
    "#Length of String - len()\n",
    "\n",
    "#ENTER CODE for ?\n",
    "\n",
    "#Using len(\"string\") in print statement \n",
    "print(\"'Good Morning' String Len is: \", len(\"Good Morning\"))"
   ]
  },
  {
   "cell_type": "code",
   "execution_count": 28,
   "metadata": {},
   "outputs": [
    {
     "name": "stdout",
     "output_type": "stream",
     "text": [
      "Good Evening String Len is: 12\n"
     ]
    }
   ],
   "source": [
    "myStr = \"Good Evening\"\n",
    "print(f\"{myStr} String Len is: {len(myStr)}\")"
   ]
  },
  {
   "cell_type": "markdown",
   "metadata": {},
   "source": [
    "STEP 3\n",
    "======\n",
    "\n",
    "### Strings - Indexing and Slicing\n",
    "\n",
    "* Use [] after the string object to call the index\n",
    "* Indexing starts with 0 and last element is len-1  (Left to Right)\n",
    "* Indexing is also used from -1 onwards if elements are referenced Right to Left"
   ]
  },
  {
   "cell_type": "code",
   "execution_count": 29,
   "metadata": {},
   "outputs": [
    {
     "name": "stdout",
     "output_type": "stream",
     "text": [
      "WELCOME SATURDAY!\n"
     ]
    }
   ],
   "source": [
    "my_str1 = \"WELCOME SATURDAY!\"\n",
    "print(my_str1)"
   ]
  },
  {
   "cell_type": "code",
   "execution_count": 31,
   "metadata": {},
   "outputs": [
    {
     "name": "stdout",
     "output_type": "stream",
     "text": [
      "STARTING WITH INDEXING STRING ELEMENTS\n",
      "First, Second last and Last elements of the String\n"
     ]
    },
    {
     "data": {
      "text/plain": [
       "17"
      ]
     },
     "execution_count": 31,
     "metadata": {},
     "output_type": "execute_result"
    }
   ],
   "source": [
    "print(\"STARTING WITH INDEXING STRING ELEMENTS\")\n",
    "print(\"First, Second last and Last elements of the String\")\n",
    "my_str_len = len(my_str1)\n",
    "my_str_len"
   ]
  },
  {
   "cell_type": "code",
   "execution_count": 34,
   "metadata": {},
   "outputs": [
    {
     "name": "stdout",
     "output_type": "stream",
     "text": [
      "my_str1 -> first element:  W\n"
     ]
    }
   ],
   "source": [
    "print(\"my_str1 -> first element: \", my_str1[0])"
   ]
  },
  {
   "cell_type": "code",
   "execution_count": 36,
   "metadata": {},
   "outputs": [
    {
     "name": "stdout",
     "output_type": "stream",
     "text": [
      "my_str1 -> second last element:  Y\n"
     ]
    }
   ],
   "source": [
    "print(\"my_str1 -> second last element: \", my_str1[-2])"
   ]
  },
  {
   "cell_type": "code",
   "execution_count": 37,
   "metadata": {},
   "outputs": [
    {
     "name": "stdout",
     "output_type": "stream",
     "text": [
      "my_str1 -> second last element:  Y\n"
     ]
    }
   ],
   "source": [
    "print(\"my_str1 -> second last element: \", my_str1[my_str_len-2])"
   ]
  },
  {
   "cell_type": "code",
   "execution_count": 39,
   "metadata": {},
   "outputs": [
    {
     "name": "stdout",
     "output_type": "stream",
     "text": [
      "my_str1 -> Last element using Len Var:  !\n"
     ]
    }
   ],
   "source": [
    "print(\"my_str1 -> Last element using Len Var: \", my_str1[my_str_len-1])"
   ]
  },
  {
   "cell_type": "code",
   "execution_count": 40,
   "metadata": {},
   "outputs": [
    {
     "name": "stdout",
     "output_type": "stream",
     "text": [
      "my_str1 -> Last element using len():  !\n"
     ]
    }
   ],
   "source": [
    "print(\"my_str1 -> Last element using len(): \", my_str1[len(my_str1)-1])"
   ]
  },
  {
   "cell_type": "markdown",
   "metadata": {},
   "source": [
    "#### Reverse indexing"
   ]
  },
  {
   "cell_type": "code",
   "execution_count": 41,
   "metadata": {},
   "outputs": [
    {
     "name": "stdout",
     "output_type": "stream",
     "text": [
      "\n",
      "my_str1 - 1st element:  W\n",
      "my_str1 - 2nd Last element:  Y\n",
      "my_str1 - Last element:  !\n"
     ]
    }
   ],
   "source": [
    "print()\n",
    "print(\"my_str1 - 1st element: \", my_str1[0])\n",
    "print(\"my_str1 - 2nd Last element: \", my_str1[-2])\n",
    "print(\"my_str1 - Last element: \", my_str1[-1])"
   ]
  },
  {
   "cell_type": "code",
   "execution_count": 48,
   "metadata": {},
   "outputs": [
    {
     "name": "stdout",
     "output_type": "stream",
     "text": [
      "!YADRUTAS EMOCLEW\n"
     ]
    }
   ],
   "source": [
    "print(my_str1[::-1])   #step = -1 ....from right to left, start and stop stays blank"
   ]
  },
  {
   "cell_type": "code",
   "execution_count": 53,
   "metadata": {},
   "outputs": [
    {
     "name": "stdout",
     "output_type": "stream",
     "text": [
      "!ARTSEOLW\n"
     ]
    }
   ],
   "source": [
    "print(my_str1[::-2]) "
   ]
  },
  {
   "cell_type": "code",
   "execution_count": 56,
   "metadata": {},
   "outputs": [],
   "source": [
    "a_str = 'WELCOME'"
   ]
  },
  {
   "cell_type": "code",
   "execution_count": 57,
   "metadata": {},
   "outputs": [
    {
     "data": {
      "text/plain": [
       "'MCE'"
      ]
     },
     "execution_count": 57,
     "metadata": {},
     "output_type": "execute_result"
    }
   ],
   "source": [
    "a_str[-2::-2]"
   ]
  },
  {
   "cell_type": "code",
   "execution_count": 60,
   "metadata": {},
   "outputs": [
    {
     "name": "stdout",
     "output_type": "stream",
     "text": [
      "String: WELCOME && RevString: EMOCLEW\n"
     ]
    }
   ],
   "source": [
    "print(f\"String: {a_str} && RevString: {a_str[::-1]}\")"
   ]
  },
  {
   "cell_type": "code",
   "execution_count": null,
   "metadata": {},
   "outputs": [],
   "source": []
  }
 ],
 "metadata": {
  "kernelspec": {
   "display_name": "Python 3",
   "language": "python",
   "name": "python3"
  },
  "language_info": {
   "codemirror_mode": {
    "name": "ipython",
    "version": 3
   },
   "file_extension": ".py",
   "mimetype": "text/x-python",
   "name": "python",
   "nbconvert_exporter": "python",
   "pygments_lexer": "ipython3",
   "version": "3.8.5"
  }
 },
 "nbformat": 4,
 "nbformat_minor": 4
}
