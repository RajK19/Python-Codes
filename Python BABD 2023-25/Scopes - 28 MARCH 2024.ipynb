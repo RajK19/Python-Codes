{
 "cells": [
  {
   "cell_type": "code",
   "execution_count": 1,
   "metadata": {},
   "outputs": [
    {
     "name": "stdout",
     "output_type": "stream",
     "text": [
      "25\n",
      "-99\n"
     ]
    }
   ],
   "source": [
    "### T3.1 - Scope of Variable\n",
    "### lEGB Principle\n",
    "\n",
    "#Example 1: First program on Nested Statements and Variable Scope\n",
    "\n",
    "var1 = 25\n",
    "\n",
    "def get_var1():\n",
    "    var1 = -99\n",
    "    return var1\n",
    "\n",
    "print(var1)   #var value defined outside the function will get printed\n",
    "print(get_var1()) #var value updated within the function get_var1() gets returned and printed "
   ]
  },
  {
   "cell_type": "code",
   "execution_count": 2,
   "metadata": {},
   "outputs": [
    {
     "name": "stdout",
     "output_type": "stream",
     "text": [
      "Inside Welcome():  Sumeru\n",
      "Inside great(): Sumeru\n",
      "Kshitiz\n"
     ]
    }
   ],
   "source": [
    "str1 = 'Kshitiz'\n",
    "\n",
    "def welcome():\n",
    "    #Enclosing function\n",
    "    str1 = 'Sumeru'\n",
    "    print('Inside Welcome(): ', str1)\n",
    "    \n",
    "    def greet():\n",
    "        print('Inside great():', str1)\n",
    "    \n",
    "    greet()\n",
    "    \n",
    "welcome()\n",
    "print(str1)\n",
    "        "
   ]
  },
  {
   "cell_type": "code",
   "execution_count": 3,
   "metadata": {},
   "outputs": [
    {
     "name": "stdout",
     "output_type": "stream",
     "text": [
      "Good Morning:  Kshitiz\n"
     ]
    }
   ],
   "source": [
    "#Enclosing Scope\n",
    "\n",
    "str2 = 'Kshitiz'\n",
    "\n",
    "def welcome():\n",
    "    #Enclosing function\n",
    "    \n",
    "    def greet():\n",
    "        print('Good Morning: ', str2)\n",
    "        \n",
    "    greet()\n",
    "    \n",
    "welcome()"
   ]
  },
  {
   "cell_type": "code",
   "execution_count": 4,
   "metadata": {},
   "outputs": [
    {
     "name": "stdout",
     "output_type": "stream",
     "text": [
      "variable var2 is:  50\n",
      "Changes local var2 to:  2\n",
      "var2 is still 50\n"
     ]
    }
   ],
   "source": [
    "#4 Local Scope\n",
    "\n",
    "var2 = 50\n",
    "\n",
    "def func(var2):\n",
    "    print('variable var2 is: ', var2)\n",
    "    var2 = 2\n",
    "    print('Changes local var2 to: ', var2)\n",
    "    \n",
    "func(var2)\n",
    "print('var2 is still',var2)"
   ]
  },
  {
   "cell_type": "code",
   "execution_count": 5,
   "metadata": {},
   "outputs": [
    {
     "name": "stdout",
     "output_type": "stream",
     "text": [
      "variable var2 is:  50\n",
      "Changes local var2 to:  2\n",
      "var2 is still 50\n"
     ]
    }
   ],
   "source": [
    "#4 Local Scope\n",
    "\n",
    "var2 = 50\n",
    "\n",
    "def func(var2):\n",
    "    print('variable var2 is: ', var2)\n",
    "    var2 = 2\n",
    "    print('Changes local var2 to: ', var2)\n",
    "    \n",
    "func(var2)\n",
    "print('var2 is still',var2)"
   ]
  },
  {
   "cell_type": "code",
   "execution_count": 22,
   "metadata": {},
   "outputs": [
    {
     "name": "stdout",
     "output_type": "stream",
     "text": [
      "Before calling f1(), var3:  50\n",
      "Inside f1() - var3:  50\n",
      "Inside f1() - var3:  100\n",
      "After calling f1(), var3:  100\n",
      "====================\n",
      "Before calling f2(), var3:  100\n",
      "Inside f2() - var3:  -100\n",
      "After calling f2(), var3:  100\n"
     ]
    }
   ],
   "source": [
    "# 6.Global Scope using global statement/ keyword inside local function\n",
    "var3 = 50\n",
    "\n",
    "def f1():\n",
    "    global var3\n",
    "    print('Inside f1() - var3: ', var3)\n",
    "    var3 = 100\n",
    "    print('Inside f1() - var3: ', var3)  #local scope\n",
    "\n",
    "def f2():\n",
    "    var3 = -100\n",
    "    print('Inside f2() - var3: ', var3)  #local scope\n",
    "   \n",
    "print(\"Before calling f1(), var3: \", var3)\n",
    "f1()\n",
    "print('After calling f1(), var3: ', var3)  \n",
    "\n",
    "print(\"=\"*20)\n",
    "\n",
    "print(\"Before calling f2(), var3: \", var3)\n",
    "f2()\n",
    "print('After calling f2(), var3: ', var3)"
   ]
  },
  {
   "cell_type": "code",
   "execution_count": 6,
   "metadata": {},
   "outputs": [
    {
     "name": "stdout",
     "output_type": "stream",
     "text": [
      "Before calling f1(), var3:  50\n",
      "Inside fi() - var3:  100\n",
      "After calling f1(), var3:  100\n"
     ]
    }
   ],
   "source": [
    "#6 Global Scope using global statement/keyword inside local function\n",
    "\n",
    "var3 = 50\n",
    "\n",
    "def f1():\n",
    "    var3 = 100\n",
    "    print('Inside f1() - var3: ',var3) #local scope\n",
    "    return var3\n",
    "\n",
    "print('Before calling f1(), var3: ', var3)\n",
    "var3 = f1()\n",
    "print('After calling f1(), var3: ', var3)"
   ]
  },
  {
   "cell_type": "markdown",
   "metadata": {},
   "source": [
    "### ----movie interval ---- ###"
   ]
  },
  {
   "cell_type": "code",
   "execution_count": 11,
   "metadata": {},
   "outputs": [
    {
     "name": "stdout",
     "output_type": "stream",
     "text": [
      "108\n"
     ]
    }
   ],
   "source": [
    "def ret_sum(a,b):\n",
    "    return a+b\n",
    "\n",
    "print(ret_sum(9,99))"
   ]
  },
  {
   "cell_type": "code",
   "execution_count": 2,
   "metadata": {},
   "outputs": [],
   "source": [
    "#function define with default values\n",
    "\n",
    "def ret_sum1(a=0, b=0, c=-9, d=0):\n",
    "    #return sum((a,b,c,d))\n",
    "    return a+b+c+d"
   ]
  },
  {
   "cell_type": "code",
   "execution_count": 16,
   "metadata": {},
   "outputs": [
    {
     "name": "stdout",
     "output_type": "stream",
     "text": [
      "-9\n",
      "0\n",
      "99\n",
      "1107\n",
      "11106\n"
     ]
    }
   ],
   "source": [
    "print(ret_sum1())\n",
    "print(ret_sum1(9))\n",
    "print(ret_sum1(9,99))\n",
    "print(ret_sum1(9,99,999))\n",
    "print(ret_sum1(9,99,999,9999))"
   ]
  },
  {
   "cell_type": "markdown",
   "metadata": {},
   "source": [
    "### *args - tells python that is has variable number of arguments"
   ]
  },
  {
   "cell_type": "code",
   "execution_count": 19,
   "metadata": {},
   "outputs": [
    {
     "name": "stdout",
     "output_type": "stream",
     "text": [
      "0\n",
      "9\n",
      "108\n",
      "1107\n",
      "11106\n"
     ]
    }
   ],
   "source": [
    "#function define with args values\n",
    "\n",
    "def ret_sum1(*args):\n",
    "    return sum((args))\n",
    "\n",
    "print(ret_sum1())\n",
    "print(ret_sum1(9))\n",
    "print(ret_sum1(9,99))\n",
    "print(ret_sum1(9,99,999))\n",
    "print(ret_sum1(9,99,999,9999))"
   ]
  },
  {
   "cell_type": "code",
   "execution_count": 20,
   "metadata": {},
   "outputs": [
    {
     "name": "stdout",
     "output_type": "stream",
     "text": [
      "0\n",
      "9\n",
      "108\n",
      "1107\n",
      "11106\n"
     ]
    }
   ],
   "source": [
    "#function define with args values\n",
    "\n",
    "def ret_sum1(*vars):\n",
    "    return sum((vars))\n",
    "\n",
    "print(ret_sum1())\n",
    "print(ret_sum1(9))\n",
    "print(ret_sum1(9,99))\n",
    "print(ret_sum1(9,99,999))\n",
    "print(ret_sum1(9,99,999,9999))"
   ]
  },
  {
   "cell_type": "code",
   "execution_count": 21,
   "metadata": {},
   "outputs": [
    {
     "name": "stdout",
     "output_type": "stream",
     "text": [
      "() <class 'tuple'>\n",
      "None\n",
      "(9,) <class 'tuple'>\n",
      "None\n",
      "(9, 99) <class 'tuple'>\n",
      "None\n",
      "(9, 99, 999) <class 'tuple'>\n",
      "None\n",
      "(9, 99, 999, 9999) <class 'tuple'>\n",
      "None\n"
     ]
    }
   ],
   "source": [
    "#function define with args values\n",
    "\n",
    "def ret_sum1(*vars):\n",
    "    print(vars, type(vars))\n",
    "\n",
    "print(ret_sum1())\n",
    "print(ret_sum1(9))\n",
    "print(ret_sum1(9,99))\n",
    "print(ret_sum1(9,99,999))\n",
    "print(ret_sum1(9,99,999,9999))"
   ]
  },
  {
   "cell_type": "markdown",
   "metadata": {},
   "source": [
    "## variable list of keyword arguments\n",
    "\n",
    "*(single star) - *tuple <br>\n",
    "\n",
    "**(double star) - **dictionary"
   ]
  },
  {
   "cell_type": "code",
   "execution_count": 25,
   "metadata": {},
   "outputs": [
    {
     "name": "stdout",
     "output_type": "stream",
     "text": [
      "{'game': 'hockey', 'players': 'ABC', 'country': 'India'}\n",
      "<class 'dict'>\n"
     ]
    }
   ],
   "source": [
    "def kwfunc1(**kwargs):\n",
    "    print(kwargs)\n",
    "    print(type(kwargs))\n",
    "    \n",
    "kwfunc1(game = 'hockey', players = 'ABC', country = 'India')"
   ]
  },
  {
   "cell_type": "code",
   "execution_count": 28,
   "metadata": {},
   "outputs": [
    {
     "name": "stdout",
     "output_type": "stream",
     "text": [
      "My favorite game is hockey\n",
      "I dont like to play games\n",
      "My favorite game is hockey\n"
     ]
    }
   ],
   "source": [
    "## Passing keyword arguments - variable count\n",
    "\n",
    "def kwfunc1(**kwargs):\n",
    "    if 'game' in kwargs:\n",
    "        print(f\"My favorite game is {kwargs['game']}\")\n",
    "    else:\n",
    "        print('I dont like to play games')\n",
    "        \n",
    "kwfunc1(game = 'hockey')\n",
    "kwfunc1()\n",
    "kwfunc1(game = 'hockey', game1 = 'football', game2 = 'cricket')"
   ]
  },
  {
   "cell_type": "code",
   "execution_count": 31,
   "metadata": {},
   "outputs": [
    {
     "name": "stdout",
     "output_type": "stream",
     "text": [
      "I dont like any game\n",
      "I dont like any game\n",
      "I like to play hockey and football\n"
     ]
    }
   ],
   "source": [
    "## Passing keyword arguments - variable count\n",
    "\n",
    "def kwfunc1(**kwargs):\n",
    "    if 'game' in kwargs and 'game1' in kwargs:\n",
    "        print(f\"I like to play {kwargs['game']} and {kwargs['game1']}\")\n",
    "    else:\n",
    "        print('I dont like any game')\n",
    "        \n",
    "kwfunc1(game='hockey')\n",
    "kwfunc1()\n",
    "kwfunc1(game = 'hockey', game1 = 'football', game2 = 'cricket')"
   ]
  },
  {
   "cell_type": "code",
   "execution_count": null,
   "metadata": {},
   "outputs": [],
   "source": [
    " "
   ]
  }
 ],
 "metadata": {
  "kernelspec": {
   "display_name": "Python 3",
   "language": "python",
   "name": "python3"
  },
  "language_info": {
   "codemirror_mode": {
    "name": "ipython",
    "version": 3
   },
   "file_extension": ".py",
   "mimetype": "text/x-python",
   "name": "python",
   "nbconvert_exporter": "python",
   "pygments_lexer": "ipython3",
   "version": "3.8.5"
  }
 },
 "nbformat": 4,
 "nbformat_minor": 4
}
