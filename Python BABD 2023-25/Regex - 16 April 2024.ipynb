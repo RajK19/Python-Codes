{
 "cells": [
  {
   "cell_type": "code",
   "execution_count": 2,
   "metadata": {},
   "outputs": [],
   "source": [
    "import re"
   ]
  },
  {
   "cell_type": "code",
   "execution_count": 3,
   "metadata": {},
   "outputs": [
    {
     "name": "stdout",
     "output_type": "stream",
     "text": [
      "<class 're.Match'>\n",
      "<re.Match object; span=(3, 9), match='mobile'>\n"
     ]
    }
   ],
   "source": [
    "pattern = 'mobile'\n",
    "\n",
    "str1 = \"My mobile number is 9990988999 and his mobile nunmber is  4544773\"\n",
    "\n",
    "my_result = re.search(pattern, str1)\n",
    "\n",
    "print(type(my_result))\n",
    "print(my_result)"
   ]
  },
  {
   "cell_type": "code",
   "execution_count": 4,
   "metadata": {},
   "outputs": [
    {
     "name": "stdout",
     "output_type": "stream",
     "text": [
      "Help on function search in module re:\n",
      "\n",
      "search(pattern, string, flags=0)\n",
      "    Scan through string looking for a match to the pattern, returning\n",
      "    a Match object, or None if no match was found.\n",
      "\n"
     ]
    }
   ],
   "source": [
    "help(re.search)"
   ]
  },
  {
   "cell_type": "code",
   "execution_count": 5,
   "metadata": {},
   "outputs": [
    {
     "data": {
      "text/plain": [
       "<function Match.start(group=0, /)>"
      ]
     },
     "execution_count": 5,
     "metadata": {},
     "output_type": "execute_result"
    }
   ],
   "source": [
    "my_result.start"
   ]
  },
  {
   "cell_type": "code",
   "execution_count": 6,
   "metadata": {},
   "outputs": [
    {
     "name": "stdout",
     "output_type": "stream",
     "text": [
      "3 9 (3, 9)\n"
     ]
    }
   ],
   "source": [
    "print(my_result.start(), my_result.end(), my_result.span())\n",
    "\n",
    "#start gives you start location of the object\n",
    "#end gives you end location of the object\n",
    "# span gives you the range (start,end)"
   ]
  },
  {
   "cell_type": "code",
   "execution_count": 7,
   "metadata": {},
   "outputs": [
    {
     "name": "stdout",
     "output_type": "stream",
     "text": [
      "['mobile', 'mobile']\n"
     ]
    }
   ],
   "source": [
    "print(re.findall(pattern, str1))"
   ]
  },
  {
   "cell_type": "code",
   "execution_count": 8,
   "metadata": {},
   "outputs": [
    {
     "name": "stdout",
     "output_type": "stream",
     "text": [
      "<re.Match object; span=(3, 9), match='mobile'>\n"
     ]
    }
   ],
   "source": [
    "print(re.search(pattern,str1))"
   ]
  },
  {
   "cell_type": "code",
   "execution_count": 9,
   "metadata": {},
   "outputs": [
    {
     "name": "stdout",
     "output_type": "stream",
     "text": [
      "My mobile number is 9990988999 and his mobile nunmber is  4544773\n",
      "mobile\n",
      "(3, 9)\n",
      "(39, 45)\n"
     ]
    }
   ],
   "source": [
    "print(str1)\n",
    "print(pattern)\n",
    "\n",
    "for substr1 in re.finditer(pattern, str1):\n",
    "    print(substr1.span())"
   ]
  },
  {
   "cell_type": "markdown",
   "metadata": {},
   "source": [
    "### T2.1  Identify Characters in Patterns\n",
    "\n",
    "* Characters such as a digit or a single string have different codes (ASCII, EBCDIC etc.), which can be used to build up a pattern string. \n",
    "* These codes may use backwards slash \\ . So, while defining pattern string for regular expression, use the format:   r'mypattern'\n",
    "    - This r implies raw string, that means forward and backward slashes or any other special characters to be ignored for any other meaning and to be treated as literals.\n",
    "    \n",
    "Below you can find a table of all the possible identifiers:\n",
    "\n",
    "\n",
    "Character|Description|Example Pattern Code|Example\n",
    ":--------|:----------|:-------------------|:-------\n",
    "\\d|A non digit|file_\\d\\d|ABC\n",
    "\\w|Alphanumeric|\\w-\\w\\w\\w|A-b_1\n",
    "\\s|White space|a\\sb\\sc|a b c\n",
    "\\D|A digit|\\D\\D\\D|file_25\n",
    "\\W|Non-alphanumeric|\\W\\W\\W\\W\\W|*-+=)\n",
    "\\S|Non-whitespace|\\S\\S\\S\\S|Yoyo"
   ]
  },
  {
   "cell_type": "code",
   "execution_count": 10,
   "metadata": {},
   "outputs": [
    {
     "name": "stdout",
     "output_type": "stream",
     "text": [
      "<re.Match object; span=(13, 25), match='111-222-4444'>\n",
      "<re.Match object; span=(39, 51), match='777-888-9999'>\n"
     ]
    }
   ],
   "source": [
    "str1 = \"My mobile is 111-222-4444 & his mobile 777-888-9999\"\n",
    "\n",
    "for match in re.finditer(r'\\d\\d\\d-\\d\\d\\d-\\d\\d\\d\\d', str1):\n",
    "    print(match)"
   ]
  },
  {
   "cell_type": "code",
   "execution_count": 11,
   "metadata": {},
   "outputs": [
    {
     "name": "stdout",
     "output_type": "stream",
     "text": [
      "<re.Match object; span=(13, 25), match='111-222-4444'>\n",
      "<re.Match object; span=(39, 51), match='777-888-9999'>\n"
     ]
    }
   ],
   "source": [
    "str1 = \"My mobile is 111-222-4444 & his mobile 777-888-9999\"\n",
    "\n",
    "for match in re.finditer(r'\\d{3}-\\d{3}-\\d{4}', str1):\n",
    "    print(match)"
   ]
  },
  {
   "cell_type": "code",
   "execution_count": 12,
   "metadata": {},
   "outputs": [
    {
     "name": "stdout",
     "output_type": "stream",
     "text": [
      "<re.Match object; span=(13, 25), match='111-222-4444'>\n",
      "<re.Match object; span=(39, 51), match='777-888-9999'>\n"
     ]
    }
   ],
   "source": [
    "str1 = \"My mobile is 111-222-4444 & his mobile 777-888-9999\"\n",
    "\n",
    "for match in re.finditer(r'\\d+-\\d+-\\d+', str1):\n",
    "    print(match)"
   ]
  },
  {
   "cell_type": "code",
   "execution_count": 13,
   "metadata": {},
   "outputs": [
    {
     "name": "stdout",
     "output_type": "stream",
     "text": [
      "<re.Match object; span=(18, 37), match='Bal-Gangadhar-Tilak'>\n",
      "<re.Match object; span=(42, 62), match='Chandra-Shekhar-Azad'>\n"
     ]
    }
   ],
   "source": [
    "str2 = 'My role model are Bal-Gangadhar-Tilak and Chandra-Shekhar-Azad'\n",
    "\n",
    "for match1 in re.finditer(r'\\w+-\\w+-\\w+',str2):\n",
    "    print(match1)"
   ]
  },
  {
   "cell_type": "code",
   "execution_count": 14,
   "metadata": {},
   "outputs": [
    {
     "name": "stdout",
     "output_type": "stream",
     "text": [
      "<re.Match object; span=(18, 31), match='Bal-Gangadhar'>\n",
      "<re.Match object; span=(42, 61), match='ChandraShekhar-Azad'>\n"
     ]
    }
   ],
   "source": [
    "str2 = 'My role model are Bal-Gangadhar-Tilak and ChandraShekhar-Azad'\n",
    "\n",
    "for match1 in re.finditer(r'\\w+-\\w+',str2):\n",
    "    print(match1)"
   ]
  },
  {
   "cell_type": "code",
   "execution_count": 24,
   "metadata": {},
   "outputs": [],
   "source": [
    "# + --> greater than equal to one time <br>\n",
    "# . ---> one time <br>\n",
    "# ? ----> 0 or 1 times <br>\n",
    "# * ----> greater than equal to zero"
   ]
  },
  {
   "cell_type": "code",
   "execution_count": 25,
   "metadata": {},
   "outputs": [
    {
     "name": "stdout",
     "output_type": "stream",
     "text": [
      "<re.Match object; span=(18, 37), match='Bal-Gangadhar-Tilak'>\n",
      "<re.Match object; span=(40, 47), match='CS-Azad'>\n",
      "<re.Match object; span=(50, 57), match='abdul-k'>\n"
     ]
    }
   ],
   "source": [
    "str2 = 'My role model are Bal-Gangadhar-Tilak & CS-Azad & abdul-k'\n",
    "\n",
    "for match1 in re.finditer(r'\\w+-\\w+-?\\w*',str2):\n",
    "    print(match1)"
   ]
  },
  {
   "cell_type": "code",
   "execution_count": 22,
   "metadata": {},
   "outputs": [
    {
     "name": "stdout",
     "output_type": "stream",
     "text": [
      "<re.Match object; span=(18, 37), match='Bal-Gangadhar-Tilak'>\n",
      "<re.Match object; span=(40, 47), match='CS-Azad'>\n",
      "<re.Match object; span=(50, 57), match='abdul-k'>\n"
     ]
    }
   ],
   "source": [
    "str2 = 'My role model are Bal-Gangadhar-Tilak & CS-Azad & abdul-k'\n",
    "\n",
    "for match1 in re.finditer(r'\\w+-\\w+-?\\w*',str2):\n",
    "    print(match1)"
   ]
  },
  {
   "cell_type": "code",
   "execution_count": 39,
   "metadata": {},
   "outputs": [
    {
     "name": "stdout",
     "output_type": "stream",
     "text": [
      "<re.Match object; span=(18, 37), match='Bal-Gangadhar-Tilak'>\n",
      "<re.Match object; span=(40, 47), match='CS-Azad'>\n",
      "<re.Match object; span=(50, 57), match='abdul-k'>\n"
     ]
    }
   ],
   "source": [
    "str2 = 'My role model are Bal-Gangadhar-Tilak & CS-Azad & abdul-k'\n",
    "\n",
    "for match1 in re.finditer(r'\\w+-\\w+-?\\w*',str2):\n",
    "    print(match1)"
   ]
  },
  {
   "cell_type": "code",
   "execution_count": 33,
   "metadata": {},
   "outputs": [
    {
     "name": "stdout",
     "output_type": "stream",
     "text": [
      "<re.Match object; span=(18, 31), match='Bal-Gangadhar'>\n",
      "<re.Match object; span=(40, 47), match='CS-Azad'>\n",
      "<re.Match object; span=(50, 57), match='abdul-k'>\n"
     ]
    }
   ],
   "source": [
    "str2 = 'My role model are Bal-Gangadhar-Tilak & CS-Azad & abdul-k'\n",
    "\n",
    "for match1 in re.finditer(r'(\\w+-\\w+)|(\\w+-\\w+-\\w+)',str2):\n",
    "    print(match1)"
   ]
  },
  {
   "cell_type": "code",
   "execution_count": 42,
   "metadata": {},
   "outputs": [
    {
     "name": "stdout",
     "output_type": "stream",
     "text": [
      "re.compile('(\\\\d{3})-(\\\\d{3})-(\\\\d{4})')\n"
     ]
    }
   ],
   "source": [
    "str1 = 'My mobile is 111-222-4444 & his mobile 777-888-9999'\n",
    "\n",
    "pattern = re.compile(r'(\\d{3})-(\\d{3})-(\\d{4})')\n",
    "\n",
    "print(pattern)"
   ]
  },
  {
   "cell_type": "code",
   "execution_count": 28,
   "metadata": {},
   "outputs": [
    {
     "name": "stdout",
     "output_type": "stream",
     "text": [
      "<re.Match object; span=(13, 25), match='111-222-4444'>\n",
      "111-222-4444\n",
      "111-222-4444\n",
      "111\n",
      "222\n",
      "4444\n",
      "========================================\n",
      "<re.Match object; span=(39, 51), match='777-888-9999'>\n",
      "777-888-9999\n",
      "777-888-9999\n",
      "777\n",
      "888\n",
      "9999\n",
      "========================================\n"
     ]
    }
   ],
   "source": [
    "for match1 in re.finditer(pattern, str1):\n",
    "    print(match1)\n",
    "    print(match1.group())\n",
    "    print(match1.group(0))\n",
    "    print(match1.group(1))\n",
    "    print(match1.group(2))\n",
    "    print(match1.group(3))\n",
    "    print('===='*10)"
   ]
  },
  {
   "cell_type": "code",
   "execution_count": 45,
   "metadata": {},
   "outputs": [],
   "source": [
    "str2 = 'My role model are Bal-Gangadhar-Tilak and Chandra-Shekhar-Azad'\n",
    "\n",
    "pattern = re.compile(r'(\\w+)-(\\w+)-(\\w+)')\n"
   ]
  },
  {
   "cell_type": "code",
   "execution_count": 47,
   "metadata": {},
   "outputs": [
    {
     "name": "stdout",
     "output_type": "stream",
     "text": [
      "<re.Match object; span=(18, 37), match='Bal-Gangadhar-Tilak'>\n",
      "Bal-Gangadhar-Tilak\n",
      "Bal-Gangadhar-Tilak\n",
      "Bal\n",
      "Gangadhar\n",
      "Tilak\n",
      "========================================\n",
      "<re.Match object; span=(42, 62), match='Chandra-Shekhar-Azad'>\n",
      "Chandra-Shekhar-Azad\n",
      "Chandra-Shekhar-Azad\n",
      "Chandra\n",
      "Shekhar\n",
      "Azad\n",
      "========================================\n"
     ]
    }
   ],
   "source": [
    "for match1 in re.finditer(pattern,str2):\n",
    "    print(match1)\n",
    "    print(match1.group())\n",
    "    print(match1.group(0))\n",
    "    print(match1.group(1))\n",
    "    print(match1.group(2))\n",
    "    print(match1.group(3))\n",
    "    print('===='*10)"
   ]
  },
  {
   "cell_type": "code",
   "execution_count": 31,
   "metadata": {},
   "outputs": [
    {
     "data": {
      "text/plain": [
       "<re.Match object; span=(8, 11), match='APP'>"
      ]
     },
     "execution_count": 31,
     "metadata": {},
     "output_type": "execute_result"
    }
   ],
   "source": [
    "import re\n",
    "re.search(r\"MLDM|APP\",\"I study APP\")"
   ]
  },
  {
   "cell_type": "code",
   "execution_count": 55,
   "metadata": {},
   "outputs": [
    {
     "data": {
      "text/plain": [
       "<re.Match object; span=(8, 11), match='APP'>"
      ]
     },
     "execution_count": 55,
     "metadata": {},
     "output_type": "execute_result"
    }
   ],
   "source": [
    "import re\n",
    "re.search(r\"MLDM|APP\",\"I study APP and MLDM\")"
   ]
  },
  {
   "cell_type": "code",
   "execution_count": 32,
   "metadata": {},
   "outputs": [
    {
     "data": {
      "text/plain": [
       "['bat', 'lat']"
      ]
     },
     "execution_count": 32,
     "metadata": {},
     "output_type": "execute_result"
    }
   ],
   "source": [
    "re.findall(r\".at\",\"The bat went splat\")  #. means one element"
   ]
  },
  {
   "cell_type": "code",
   "execution_count": 33,
   "metadata": {},
   "outputs": [
    {
     "data": {
      "text/plain": [
       "['The', 'bat', 'lat']"
      ]
     },
     "execution_count": 33,
     "metadata": {},
     "output_type": "execute_result"
    }
   ],
   "source": [
    "re.findall(r\".at|^T..\",\"The bat went splat\") "
   ]
  },
  {
   "attachments": {
    "image.png": {
     "image/png": "[encoded data removed]"
    }
   },
   "cell_type": "markdown",
   "metadata": {},
   "source": [
    "![image.png](attachment:image.png)"
   ]
  },
  {
   "cell_type": "code",
   "execution_count": 36,
   "metadata": {},
   "outputs": [
    {
     "data": {
      "text/plain": [
       "['The', 'bat', 'lat', 'caB']"
      ]
     },
     "execution_count": 36,
     "metadata": {},
     "output_type": "execute_result"
    }
   ],
   "source": [
    "re.findall(r\".at|^T..|..B$\",\"The bat went splat & caB\")\n",
    "\n",
    "#    $  matches the end of the string"
   ]
  },
  {
   "cell_type": "code",
   "execution_count": 56,
   "metadata": {},
   "outputs": [
    {
     "data": {
      "text/plain": [
       "['The', 'bat', 'lat', 'cat', 'ttB']"
      ]
     },
     "execution_count": 56,
     "metadata": {},
     "output_type": "execute_result"
    }
   ],
   "source": [
    "re.findall(r\".at|^T..|..B$\",\"The bat went splat & cattttB\")"
   ]
  },
  {
   "cell_type": "code",
   "execution_count": null,
   "metadata": {},
   "outputs": [],
   "source": []
  }
 ],
 "metadata": {
  "kernelspec": {
   "display_name": "Python 3",
   "language": "python",
   "name": "python3"
  },
  "language_info": {
   "codemirror_mode": {
    "name": "ipython",
    "version": 3
   },
   "file_extension": ".py",
   "mimetype": "text/x-python",
   "name": "python",
   "nbconvert_exporter": "python",
   "pygments_lexer": "ipython3",
   "version": "3.8.5"
  }
 },
 "nbformat": 4,
 "nbformat_minor": 4
}
