{
 "cells": [
  {
   "cell_type": "raw",
   "metadata": {},
   "source": [
    "# r --- read mode\n",
    "# r+ --- read and write mode\n",
    "# w --- write mode\n",
    "# w+ --- write and read\n",
    "# a --- append\n",
    "# a+ --- append and read mode\n",
    "\n",
    "\n",
    "\n",
    "read - reads entire text\n",
    "readlines - reads line by line\n",
    "write - writes entire text\n",
    "writelines - writes line by line\n",
    "\n",
    "seek() - #sets your pointer to a particular character in the file\n",
    "(opens in two modes)\n",
    "> 'r'returns beginning character of the file\n",
    "> 'a' returns the last character of the file\n",
    "\n",
    "tell() - aapka pointer file ke konse character par hai"
   ]
  },
  {
   "cell_type": "code",
   "execution_count": 7,
   "metadata": {},
   "outputs": [
    {
     "name": "stdout",
     "output_type": "stream",
     "text": [
      "line1: This is the first line of text....Now, we are in second line of text\n",
      "\n",
      "line2: Subsequently, third line of text\n",
      "\n",
      "line3: Finally, fourth ine of text...\n",
      "\n",
      "line4: End of file... Bye...ciou!\n"
     ]
    }
   ],
   "source": [
    "file1 = open('app1_r.txt','r')\n",
    "\n",
    "for line in file1:\n",
    "    print(line)"
   ]
  },
  {
   "cell_type": "code",
   "execution_count": 8,
   "metadata": {},
   "outputs": [
    {
     "name": "stdout",
     "output_type": "stream",
     "text": [
      "187\n"
     ]
    }
   ],
   "source": [
    "print(file1.tell())"
   ]
  },
  {
   "cell_type": "code",
   "execution_count": 9,
   "metadata": {},
   "outputs": [
    {
     "name": "stdout",
     "output_type": "stream",
     "text": [
      "<class '_io.TextIOWrapper'> 2435441993616\n"
     ]
    }
   ],
   "source": [
    "print(type(file1), id(file1))"
   ]
  },
  {
   "cell_type": "code",
   "execution_count": 10,
   "metadata": {},
   "outputs": [],
   "source": [
    "file1.close()"
   ]
  },
  {
   "cell_type": "code",
   "execution_count": 11,
   "metadata": {},
   "outputs": [
    {
     "name": "stdout",
     "output_type": "stream",
     "text": [
      "<class '_io.TextIOWrapper'> 2435441993616\n"
     ]
    }
   ],
   "source": [
    "print(type(file1), id(file1))"
   ]
  },
  {
   "cell_type": "code",
   "execution_count": 12,
   "metadata": {},
   "outputs": [
    {
     "data": {
      "text/plain": [
       "(_io.TextIOWrapper, 2435441993616)"
      ]
     },
     "execution_count": 12,
     "metadata": {},
     "output_type": "execute_result"
    }
   ],
   "source": [
    "type(file1), id(file1)"
   ]
  },
  {
   "cell_type": "code",
   "execution_count": 13,
   "metadata": {},
   "outputs": [
    {
     "name": "stdout",
     "output_type": "stream",
     "text": [
      "line1: This is the first line of text....Now, we are in second line of text\n",
      "\n",
      "line2: Subsequently, third line of text\n",
      "\n",
      "line3: Finally, fourth ine of text...\n",
      "\n",
      "line4: End of file... Bye...ciou!\n"
     ]
    }
   ],
   "source": [
    "file1 = open('app1_r.txt','r')\n",
    "\n",
    "for line in file1:\n",
    "    print(line)"
   ]
  },
  {
   "cell_type": "code",
   "execution_count": 14,
   "metadata": {},
   "outputs": [
    {
     "data": {
      "text/plain": [
       "0"
      ]
     },
     "execution_count": 14,
     "metadata": {},
     "output_type": "execute_result"
    }
   ],
   "source": [
    "file1.seek(0)\n",
    "\n",
    "#using seek to go to the beginning of the file"
   ]
  },
  {
   "cell_type": "code",
   "execution_count": 15,
   "metadata": {},
   "outputs": [
    {
     "name": "stdout",
     "output_type": "stream",
     "text": [
      "Reading the file till EOF using read()! \n",
      "line1: This is the first line of text....Now, we are in second line of text\n",
      "line2: Subsequently, third line of text\n",
      "line3: Finally, fourth ine of text...\n",
      "line4: End of file... Bye...ciou!\n"
     ]
    }
   ],
   "source": [
    "print('Reading the file till EOF using read()! ')\n",
    "print(file1.read())"
   ]
  },
  {
   "cell_type": "code",
   "execution_count": 17,
   "metadata": {},
   "outputs": [
    {
     "name": "stdout",
     "output_type": "stream",
     "text": [
      "Reading the file till EOF using read()! \n",
      "====================================================================================================\n",
      "This is the first line of text....Now, we are in second line of text\n",
      "line2: Subsequently, third line of text\n",
      "line3: Finally, fourth ine of text...\n",
      "line4: End of file... Bye...ciou!\n"
     ]
    }
   ],
   "source": [
    "file1.seek(7)\n",
    "print('Reading the file till EOF using read()! ')\n",
    "\n",
    "print(\"=\"*100)\n",
    "print(file1.read())"
   ]
  },
  {
   "cell_type": "code",
   "execution_count": 18,
   "metadata": {},
   "outputs": [
    {
     "name": "stdout",
     "output_type": "stream",
     "text": [
      "Current pointer location:  187\n"
     ]
    }
   ],
   "source": [
    "print('Current pointer location: ', file1.tell())"
   ]
  },
  {
   "cell_type": "code",
   "execution_count": 19,
   "metadata": {},
   "outputs": [
    {
     "name": "stdout",
     "output_type": "stream",
     "text": [
      "Current pointer location:  7\n",
      "Reading the file till EOF using read()! \n",
      "====================================================================================================\n",
      "This is the first line of text....Now, we are in second line of text\n",
      "line2: Subsequently, third line of text\n",
      "line3: Finally, fourth ine of text...\n",
      "line4: End of file... Bye...ciou!\n"
     ]
    }
   ],
   "source": [
    "file1.seek(7)\n",
    "print('Current pointer location: ', file1.tell())\n",
    "print('Reading the file till EOF using read()! ')\n",
    "\n",
    "print(\"=\"*100)\n",
    "print(file1.read())"
   ]
  },
  {
   "cell_type": "code",
   "execution_count": 21,
   "metadata": {},
   "outputs": [
    {
     "name": "stdout",
     "output_type": "stream",
     "text": [
      "line1: This is\n"
     ]
    }
   ],
   "source": [
    "file1 = open('app1_r.txt','r')\n",
    "print(file1.read(14))   #reads first 14 characters"
   ]
  },
  {
   "cell_type": "code",
   "execution_count": 22,
   "metadata": {},
   "outputs": [
    {
     "name": "stdout",
     "output_type": "stream",
     "text": [
      " the first line of text....Now, we are in second line of text\n",
      "line2: Subsequently, third line of tex\n"
     ]
    }
   ],
   "source": [
    "print(file1.read(100))"
   ]
  },
  {
   "cell_type": "code",
   "execution_count": 23,
   "metadata": {},
   "outputs": [],
   "source": [
    "file1.close()"
   ]
  },
  {
   "cell_type": "markdown",
   "metadata": {},
   "source": [
    "### Write"
   ]
  },
  {
   "cell_type": "code",
   "execution_count": 24,
   "metadata": {},
   "outputs": [],
   "source": [
    "lines = \"1. Hello Writing! \\n2. Hello 2 Writing !! \\n3. Hello 3 Writing!\"\n",
    "\n",
    "file2 = open('app1_w.txt','w')   #In write mode\n",
    "file2.write(\"Writing the first line of text!\\n\")\n",
    "file2.write(\"Here comes second line of text written to the file!\\n\")\n",
    "file2.write(\"Finally, Here comes the third line of text written to the file!\\n\")\n",
    "file2.write(\"ciou.. Bye...Closing the file !!\\n\")\n",
    "file2.close()"
   ]
  },
  {
   "cell_type": "code",
   "execution_count": 25,
   "metadata": {},
   "outputs": [
    {
     "name": "stdout",
     "output_type": "stream",
     "text": [
      "Reading the file written earlier - <app1_w.txt> !\n"
     ]
    }
   ],
   "source": [
    "file3 = open('app1_w.txt','a')\n",
    "print('Reading the file written earlier - <app1_w.txt> !')\n",
    "file3.writelines(lines)\n",
    "file3.close()"
   ]
  },
  {
   "cell_type": "code",
   "execution_count": 26,
   "metadata": {},
   "outputs": [
    {
     "name": "stdout",
     "output_type": "stream",
     "text": [
      "Reading the file written earlier - <app1_w.txt> !\n",
      "Writing the first line of text!\n",
      "Here comes second line of text written to the file!\n",
      "Finally, Here comes the third line of text written to the file!\n",
      "ciou.. Bye...Closing the file !!\n",
      "1. Hello Writing! \n",
      "2. Hello 2 Writing !! \n",
      "3. Hello 3 Writing!\n"
     ]
    }
   ],
   "source": [
    "file4 = open('app1_w.txt', 'r')\n",
    "print(\"Reading the file written earlier - <app1_w.txt> !\")\n",
    "print(file4.read())\n",
    "file4.close()"
   ]
  },
  {
   "cell_type": "code",
   "execution_count": 28,
   "metadata": {},
   "outputs": [
    {
     "name": "stdout",
     "output_type": "stream",
     "text": [
      "Writing the first line of text!\n",
      "Here comes second line of text written to the file!\n",
      "Finally, Here comes the third line of text written to the file!\n",
      "ciou.. Bye...Closing the file !!\n",
      "1. Hello Writing! \n",
      "2. Hello 2 Writing !! \n",
      "3. Hello 3 Writing!\n"
     ]
    }
   ],
   "source": [
    "file1 = open('app1_w.txt','r')\n",
    "print(file1.read())"
   ]
  },
  {
   "cell_type": "code",
   "execution_count": null,
   "metadata": {},
   "outputs": [],
   "source": []
  }
 ],
 "metadata": {
  "kernelspec": {
   "display_name": "Python 3",
   "language": "python",
   "name": "python3"
  },
  "language_info": {
   "codemirror_mode": {
    "name": "ipython",
    "version": 3
   },
   "file_extension": ".py",
   "mimetype": "text/x-python",
   "name": "python",
   "nbconvert_exporter": "python",
   "pygments_lexer": "ipython3",
   "version": "3.8.5"
  }
 },
 "nbformat": 4,
 "nbformat_minor": 4
}
