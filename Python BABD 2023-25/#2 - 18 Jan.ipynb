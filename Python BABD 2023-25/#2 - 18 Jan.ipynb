{
 "cells": [
  {
   "cell_type": "markdown",
   "metadata": {},
   "source": [
    "# Welcome to session 2"
   ]
  },
  {
   "cell_type": "markdown",
   "metadata": {},
   "source": [
    "## Markdown Feature"
   ]
  },
  {
   "cell_type": "markdown",
   "metadata": {},
   "source": [
    "<b> bold </b> #using html command <b>"
   ]
  },
  {
   "cell_type": "markdown",
   "metadata": {},
   "source": [
    "**bold**  #using ** asteriks **"
   ]
  },
  {
   "cell_type": "markdown",
   "metadata": {},
   "source": [
    "__bold__   #using __ underscores __"
   ]
  },
  {
   "cell_type": "markdown",
   "metadata": {},
   "source": [
    "_itaclics_   #using _ single underscore _"
   ]
  },
  {
   "cell_type": "markdown",
   "metadata": {},
   "source": [
    "*itaclics*  #using * single asterik *"
   ]
  },
  {
   "cell_type": "markdown",
   "metadata": {},
   "source": [
    "# H1\n",
    "## H2\n",
    "### H3\n",
    "#### H4\n",
    "##### H5\n",
    "###### H6"
   ]
  },
  {
   "cell_type": "markdown",
   "metadata": {},
   "source": [
    "* Planets\n",
    "    * Mercury\n",
    "    * Earth\n",
    "    * venus\n",
    "        - Sun\n",
    "        - Moon\n",
    "        \n",
    "- Months\n",
    "    * January\n",
    "    * Februray\n",
    "    * March"
   ]
  },
  {
   "cell_type": "markdown",
   "metadata": {},
   "source": [
    "1. Planets\n",
    "    1. Mercury\n",
    "    2. Venus\n",
    "    3. Earth\n",
    "        1. Sun\n",
    "        2. Moon\n",
    "            1. Moon1\n",
    "            2. Moon2\n",
    "        \n",
    "2. Months\n",
    "    1. January\n",
    "    2. February\n",
    "    3. March"
   ]
  },
  {
   "cell_type": "markdown",
   "metadata": {},
   "source": [
    "[Google's Website](https://www.google.com)"
   ]
  },
  {
   "cell_type": "markdown",
   "metadata": {},
   "source": [
    "[GoogleNews](https://www.news.google.com)"
   ]
  },
  {
   "cell_type": "markdown",
   "metadata": {},
   "source": [
    "<img src = \"Parts-of-R-Pi-3B.webp\">"
   ]
  },
  {
   "cell_type": "markdown",
   "metadata": {},
   "source": [
    "S NO | Name | Marks | Description|\n",
    "|----|------|-------|------------|\n",
    "001|Sanjay|89|High\n",
    "002|Samidha|91|High\n",
    "003|Venkat|76|Medium"
   ]
  },
  {
   "cell_type": "markdown",
   "metadata": {},
   "source": [
    "C1|C2|C3\n",
    "---|---|---|\n",
    "1|abc|def"
   ]
  },
  {
   "cell_type": "markdown",
   "metadata": {},
   "source": [
    "C1|C2|C3\n",
    "---|---|:---|\n",
    "1|abc|def"
   ]
  },
  {
   "cell_type": "markdown",
   "metadata": {},
   "source": [
    "C1|C2|C3\n",
    "---|---|:---:|\n",
    "1|abc|def"
   ]
  },
  {
   "cell_type": "code",
   "execution_count": null,
   "metadata": {},
   "outputs": [],
   "source": []
  }
 ],
 "metadata": {
  "kernelspec": {
   "display_name": "Python 3",
   "language": "python",
   "name": "python3"
  },
  "language_info": {
   "codemirror_mode": {
    "name": "ipython",
    "version": 3
   },
   "file_extension": ".py",
   "mimetype": "text/x-python",
   "name": "python",
   "nbconvert_exporter": "python",
   "pygments_lexer": "ipython3",
   "version": "3.8.5"
  }
 },
 "nbformat": 4,
 "nbformat_minor": 4
}
